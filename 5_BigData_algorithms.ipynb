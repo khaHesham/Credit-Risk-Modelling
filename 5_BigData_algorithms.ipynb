{
 "cells": [
  {
   "cell_type": "markdown",
   "metadata": {},
   "source": [
    "# This Notebook is designed to implement various Big Data algorithms using Apache Spark"
   ]
  },
  {
   "cell_type": "markdown",
   "metadata": {},
   "source": [
    "### 1. imports"
   ]
  },
  {
   "cell_type": "code",
   "execution_count": 7,
   "metadata": {},
   "outputs": [],
   "source": [
    "from pyspark.sql import SparkSession\n",
    "from pyspark.ml.evaluation import MulticlassClassificationEvaluator\n",
    "from pyspark.ml.classification import LogisticRegression, DecisionTreeClassifier, RandomForestClassifier, LinearSVC,NaiveBayes, GBTClassifier\n",
    "from pyspark.ml.feature import VectorAssembler"
   ]
  },
  {
   "cell_type": "code",
   "execution_count": 12,
   "metadata": {},
   "outputs": [],
   "source": [
    "def transform_data(data, input_cols, output_col):\n",
    "    assembler = VectorAssembler(inputCols=input_cols, outputCol=\"features\")\n",
    "    data = assembler.transform(data)\n",
    "    data = data.select(['features', output_col])\n",
    "    return data\n",
    "\n",
    "def evaluate_model(model, data, model_name , date_type):\n",
    "\n",
    "    # prdict on data\n",
    "    predictions = model.transform(data)\n",
    "\n",
    "    # Create evaluators for different metrics\n",
    "    evaluator_multi = MulticlassClassificationEvaluator(predictionCol='prediction', labelCol='loanStatus', metricName='accuracy')\n",
    "    evaluator_weighted_precision = MulticlassClassificationEvaluator(predictionCol='prediction', labelCol='loanStatus', metricName='weightedPrecision')\n",
    "    evaluator_weighted_recall = MulticlassClassificationEvaluator(predictionCol='prediction', labelCol='loanStatus', metricName='weightedRecall')\n",
    "    evaluator_f1 = MulticlassClassificationEvaluator(predictionCol='prediction', labelCol='loanStatus', metricName='f1')\n",
    "\n",
    "    # Calculate evaluation metrics\n",
    "    accuracy = evaluator_multi.evaluate(predictions)\n",
    "    weighted_precision = evaluator_weighted_precision.evaluate(predictions)\n",
    "    weighted_recall = evaluator_weighted_recall.evaluate(predictions)\n",
    "    f1 = evaluator_f1.evaluate(predictions)\n",
    "\n",
    "    # Print results\n",
    "    print('-------------------------------------------------------------------------------------------------------------------')\n",
    "    print(f'---------------------------------------------- Model: {model_name} -----------------------------------------------')\n",
    "    print('-------------------------------------------------------------------------------------------------------------------')\n",
    "    print(f'Data Type: {date_type}')\n",
    "    print(f'Accuracy: {accuracy}')\n",
    "    print(f'Weighted Precision: {weighted_precision}')\n",
    "    print(f'Weighted Recall: {weighted_recall}')\n",
    "    print(f'F1 Score: {f1}')"
   ]
  },
  {
   "cell_type": "code",
   "execution_count": 3,
   "metadata": {},
   "outputs": [],
   "source": [
    "def logistic_regression(train_data, test_data, output_col):\n",
    "\n",
    "    # Create Logistic Regression model\n",
    "    lr = LogisticRegression(featuresCol='features', labelCol=output_col)\n",
    "\n",
    "    # Fit model to training data\n",
    "    lr_model = lr.fit(train_data)\n",
    "\n",
    "    evaluate_model(lr_model,train_data, 'Logistic Regression', 'train')\n",
    "    evaluate_model(lr_model,test_data, 'Logistic Regression', 'test')"
   ]
  },
  {
   "cell_type": "code",
   "execution_count": 4,
   "metadata": {},
   "outputs": [],
   "source": [
    "def decision_tree(train_data, test_data, output_col):\n",
    "\n",
    "    # Create Decision Tree model\n",
    "    dt = DecisionTreeClassifier(featuresCol='features', labelCol=output_col)\n",
    "\n",
    "    # Fit model to training data\n",
    "    dt_model = dt.fit(train_data)\n",
    "\n",
    "    evaluate_model(dt_model,train_data, 'Decision Tree', 'train')\n",
    "    evaluate_model(dt_model,test_data, 'Decision Tree', 'test')"
   ]
  },
  {
   "cell_type": "code",
   "execution_count": 5,
   "metadata": {},
   "outputs": [],
   "source": [
    "def random_forest(train_data, test_data, output_col):\n",
    "\n",
    "    # Create Random Forest model\n",
    "    rf = RandomForestClassifier(featuresCol='features', labelCol=output_col)\n",
    "\n",
    "    # Fit model to training data\n",
    "    rf_model = rf.fit(train_data)\n",
    "\n",
    "    evaluate_model(rf_model,train_data, 'Random Forest', 'train')\n",
    "    evaluate_model(rf_model,test_data, 'Random Forest', 'test')"
   ]
  },
  {
   "cell_type": "code",
   "execution_count": 6,
   "metadata": {},
   "outputs": [],
   "source": [
    "def linear_svc(train_data, test_data, output_col):\n",
    "\n",
    "    # Create Linear SVC model\n",
    "    lsvc = LinearSVC(featuresCol='features', labelCol=output_col)\n",
    "\n",
    "    # Fit model to training data\n",
    "    lsvc_model = lsvc.fit(train_data)\n",
    "\n",
    "    evaluate_model(lsvc_model,train_data, 'Linear SVC', 'train')\n",
    "    evaluate_model(lsvc_model,test_data, 'Linear SVC', 'test')"
   ]
  },
  {
   "cell_type": "code",
   "execution_count": 8,
   "metadata": {},
   "outputs": [],
   "source": [
    "def naive_bayes(train_data, test_data, output_col):\n",
    "\n",
    "    # Create Naive Bayes model\n",
    "    nb = NaiveBayes(featuresCol='features', labelCol=output_col)\n",
    "\n",
    "    # Fit model to training data\n",
    "    nb_model = nb.fit(train_data)\n",
    "\n",
    "    evaluate_model(nb_model,train_data, 'Naive Bayes', 'train')\n",
    "    evaluate_model(nb_model,test_data, 'Naive Bayes', 'test')"
   ]
  },
  {
   "cell_type": "code",
   "execution_count": 9,
   "metadata": {},
   "outputs": [],
   "source": [
    "def gradient_boosted_tree(train_data, test_data, output_col):\n",
    "\n",
    "    # Create Gradient Boosted Tree model\n",
    "    gbt = GBTClassifier(featuresCol='features', labelCol=output_col)\n",
    "\n",
    "    # Fit model to training data\n",
    "    gbt_model = gbt.fit(train_data)\n",
    "\n",
    "    evaluate_model(gbt_model,train_data, 'Gradient Boosted Tree', 'train')\n",
    "    evaluate_model(gbt_model,test_data, 'Gradient Boosted Tree', 'test')"
   ]
  },
  {
   "cell_type": "code",
   "execution_count": 14,
   "metadata": {},
   "outputs": [],
   "source": [
    "def pipeline(data, input_cols, output_col):\n",
    "\n",
    "    # Split data into training and test sets\n",
    "    train_data, test_data = data.randomSplit([0.8, 0.2])\n",
    "\n",
    "    # Transform data\n",
    "    train_data = transform_data(train_data, input_cols, output_col)\n",
    "    test_data = transform_data(test_data, input_cols, output_col)\n",
    "\n",
    "    # Logistic Regression\n",
    "    logistic_regression(train_data, test_data, output_col)\n",
    "\n",
    "    # Decision Tree\n",
    "    decision_tree(train_data, test_data, output_col)\n",
    "\n",
    "    # Random Forest\n",
    "    random_forest(train_data, test_data, output_col)\n",
    "\n",
    "    # Linear SVC\n",
    "    linear_svc(train_data, test_data, output_col)\n",
    "\n",
    "    # Gradient Boosted Tree\n",
    "    gradient_boosted_tree(train_data, test_data, output_col)"
   ]
  },
  {
   "cell_type": "code",
   "execution_count": 15,
   "metadata": {},
   "outputs": [
    {
     "name": "stdout",
     "output_type": "stream",
     "text": [
      "-------------------------------------------------------------------------------------------------------------------\n",
      "---------------------------------------------- Model: Logistic Regression -----------------------------------------------\n",
      "-------------------------------------------------------------------------------------------------------------------\n",
      "Data Type: train\n",
      "Accuracy: 0.8290975703007819\n",
      "Weighted Precision: 0.8272674825535453\n",
      "Weighted Recall: 0.8290975703007819\n",
      "F1 Score: 0.8219510022232257\n",
      "-------------------------------------------------------------------------------------------------------------------\n",
      "---------------------------------------------- Model: Logistic Regression -----------------------------------------------\n",
      "-------------------------------------------------------------------------------------------------------------------\n",
      "Data Type: test\n",
      "Accuracy: 0.8311368066778854\n",
      "Weighted Precision: 0.8297418196996926\n",
      "Weighted Recall: 0.8311368066778854\n",
      "F1 Score: 0.8239605615212656\n",
      "-------------------------------------------------------------------------------------------------------------------\n",
      "---------------------------------------------- Model: Decision Tree -----------------------------------------------\n",
      "-------------------------------------------------------------------------------------------------------------------\n",
      "Data Type: train\n",
      "Accuracy: 0.815841991823976\n",
      "Weighted Precision: 0.8225850158824601\n",
      "Weighted Recall: 0.815841991823976\n",
      "F1 Score: 0.8009144959482245\n",
      "-------------------------------------------------------------------------------------------------------------------\n",
      "---------------------------------------------- Model: Decision Tree -----------------------------------------------\n",
      "-------------------------------------------------------------------------------------------------------------------\n",
      "Data Type: test\n",
      "Accuracy: 0.8152251786934137\n",
      "Weighted Precision: 0.8226527829223083\n",
      "Weighted Recall: 0.8152251786934138\n",
      "F1 Score: 0.7999587894446784\n",
      "-------------------------------------------------------------------------------------------------------------------\n",
      "---------------------------------------------- Model: Random Forest -----------------------------------------------\n",
      "-------------------------------------------------------------------------------------------------------------------\n",
      "Data Type: train\n",
      "Accuracy: 0.7792935679983867\n",
      "Weighted Precision: 0.8037498398216923\n",
      "Weighted Recall: 0.7792935679983867\n",
      "F1 Score: 0.7464577164270066\n",
      "-------------------------------------------------------------------------------------------------------------------\n",
      "---------------------------------------------- Model: Random Forest -----------------------------------------------\n",
      "-------------------------------------------------------------------------------------------------------------------\n",
      "Data Type: test\n",
      "Accuracy: 0.7787367333677668\n",
      "Weighted Precision: 0.8032470429116475\n",
      "Weighted Recall: 0.7787367333677669\n",
      "F1 Score: 0.7458892684865948\n",
      "-------------------------------------------------------------------------------------------------------------------\n",
      "---------------------------------------------- Model: Linear SVC -----------------------------------------------\n",
      "-------------------------------------------------------------------------------------------------------------------\n",
      "Data Type: train\n",
      "Accuracy: 0.8084348333914534\n",
      "Weighted Precision: 0.8086425579519521\n",
      "Weighted Recall: 0.8084348333914535\n",
      "F1 Score: 0.7958816451474515\n",
      "-------------------------------------------------------------------------------------------------------------------\n",
      "---------------------------------------------- Model: Linear SVC -----------------------------------------------\n",
      "-------------------------------------------------------------------------------------------------------------------\n",
      "Data Type: test\n",
      "Accuracy: 0.8098602109332045\n",
      "Weighted Precision: 0.8104157619088649\n",
      "Weighted Recall: 0.8098602109332045\n",
      "F1 Score: 0.7974708278968421\n",
      "-------------------------------------------------------------------------------------------------------------------\n",
      "---------------------------------------------- Model: Gradient Boosted Tree -----------------------------------------------\n",
      "-------------------------------------------------------------------------------------------------------------------\n",
      "Data Type: train\n",
      "Accuracy: 0.8797166541323374\n",
      "Weighted Precision: 0.882455961767903\n",
      "Weighted Recall: 0.8797166541323374\n",
      "F1 Score: 0.8750489508203513\n",
      "-------------------------------------------------------------------------------------------------------------------\n",
      "---------------------------------------------- Model: Gradient Boosted Tree -----------------------------------------------\n",
      "-------------------------------------------------------------------------------------------------------------------\n",
      "Data Type: test\n",
      "Accuracy: 0.8794548393008881\n",
      "Weighted Precision: 0.8822545030644355\n",
      "Weighted Recall: 0.8794548393008881\n",
      "F1 Score: 0.8747771043257653\n"
     ]
    }
   ],
   "source": [
    "spark = SparkSession.builder.appName('classification').getOrCreate()\n",
    "\n",
    "# Load data\n",
    "train_data = spark.read.csv('dataset/preprocessed_train.csv', header=True, inferSchema=True)\n",
    "test_data = spark.read.csv('dataset/preprocessed_test.csv', header=True, inferSchema=True)\n",
    "\n",
    "# Define input columns and output column\n",
    "input_cols = train_data.columns[1:-1]\n",
    "output_col = 'loanStatus'\n",
    "\n",
    "transformed_train_data = transform_data(train_data, input_cols, output_col)\n",
    "transformed_test_data = transform_data(test_data, input_cols, output_col)\n",
    "\n",
    "pipeline(train_data, input_cols, output_col)\n",
    "\n",
    "spark.stop()"
   ]
  },
  {
   "cell_type": "code",
   "execution_count": null,
   "metadata": {},
   "outputs": [],
   "source": [
    "# apply KNN from scratch with map reduce\n",
    "\n"
   ]
  }
 ],
 "metadata": {
  "kernelspec": {
   "display_name": "Python 3",
   "language": "python",
   "name": "python3"
  },
  "language_info": {
   "codemirror_mode": {
    "name": "ipython",
    "version": 3
   },
   "file_extension": ".py",
   "mimetype": "text/x-python",
   "name": "python",
   "nbconvert_exporter": "python",
   "pygments_lexer": "ipython3",
   "version": "3.10.7"
  }
 },
 "nbformat": 4,
 "nbformat_minor": 2
}

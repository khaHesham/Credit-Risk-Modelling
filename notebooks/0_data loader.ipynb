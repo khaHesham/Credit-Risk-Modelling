{
 "cells": [
  {
   "cell_type": "code",
   "execution_count": null,
   "metadata": {
    "application/vnd.databricks.v1+cell": {
     "cellMetadata": {
      "byteLimit": 2048000,
      "rowLimit": 10000
     },
     "inputWidgets": {},
     "nuid": "5b327e43-ed21-4208-8843-09fd0bcbc85e",
     "showTitle": false,
     "title": ""
    }
   },
   "outputs": [
    {
     "name": "stdout",
     "output_type": "stream",
     "text": [
      "azure  conf  eventlogs\thadoop_accessed_config.lst  logs  preload_class.lst\r\n"
     ]
    }
   ],
   "source": [
    "!ls"
   ]
  },
  {
   "cell_type": "code",
   "execution_count": null,
   "metadata": {
    "application/vnd.databricks.v1+cell": {
     "cellMetadata": {
      "byteLimit": 2048000,
      "rowLimit": 10000
     },
     "inputWidgets": {},
     "nuid": "5675029c-f768-4400-803a-438138fe243d",
     "showTitle": false,
     "title": ""
    }
   },
   "outputs": [
    {
     "name": "stdout",
     "output_type": "stream",
     "text": [
      "--2024-05-09 22:54:17--  https://www.bondora.com/marketing/media/LoanData.zip\r\n",
      "Resolving www.bondora.com (www.bondora.com)... 104.22.38.208, 104.22.39.208, 172.67.36.79, ...\r\n",
      "Connecting to www.bondora.com (www.bondora.com)|104.22.38.208|:443... connected.\r\n",
      "HTTP request sent, awaiting response... 200 OK\r\n",
      "Length: 67606199 (64M) [application/zip]\r\n",
      "Saving to: ‘LoanData.zip’\r\n",
      "\r\n",
      "\rLoanData.zip          0%[                    ]       0  --.-KB/s               \rLoanData.zip          0%[                    ] 114.12K   405KB/s               \rLoanData.zip          2%[                    ]   1.35M  2.38MB/s               \rLoanData.zip          8%[>                   ]   5.75M  7.48MB/s               \rLoanData.zip         20%[===>                ]  13.53M  13.9MB/s               \rLoanData.zip         30%[=====>              ]  19.65M  16.7MB/s               \rLoanData.zip         42%[=======>            ]  27.11M  19.4MB/s               \rLoanData.zip         55%[==========>         ]  35.82M  21.7MB/s               \rLoanData.zip         64%[===========>        ]  41.54M  22.4MB/s               \rLoanData.zip         74%[=============>      ]  48.00M  22.6MB/s               \rLoanData.zip         86%[================>   ]  55.69M  23.9MB/s               \rLoanData.zip         96%[==================> ]  62.25M  23.9MB/s               \rLoanData.zip         99%[==================> ]  64.46M  23.0MB/s               \rLoanData.zip        100%[===================>]  64.47M  23.0MB/s    in 2.8s    \r\n",
      "\r\n",
      "2024-05-09 22:54:21 (23.0 MB/s) - ‘LoanData.zip’ saved [67606199/67606199]\r\n",
      "\r\n",
      "Archive:  LoanData.zip\r\n",
      "  inflating: dataset/LoanData.csv    \r\n"
     ]
    }
   ],
   "source": [
    "!wget https://www.bondora.com/marketing/media/LoanData.zip\n",
    "!mkdir dataset\n",
    "!unzip LoanData.zip -d dataset\n",
    "!rm LoanData.zip"
   ]
  }
 ],
 "metadata": {
  "application/vnd.databricks.v1+notebook": {
   "dashboards": [],
   "language": "python",
   "notebookMetadata": {
    "pythonIndentUnit": 4
   },
   "notebookName": "data loader",
   "widgets": {}
  },
  "language_info": {
   "name": "python"
  }
 },
 "nbformat": 4,
 "nbformat_minor": 0
}

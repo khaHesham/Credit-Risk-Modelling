{
 "cells": [
  {
   "cell_type": "code",
   "execution_count": 1,
   "metadata": {},
   "outputs": [],
   "source": [
    "import pandas as pd\n",
    "import numpy as np\n",
    "import warnings\n",
    "import matplotlib.pyplot as plt\n",
    "import seaborn as sns\n",
    "import eli5\n",
    "import pickle\n",
    "\n",
    "sns.set()\n",
    "warnings.filterwarnings('ignore')"
   ]
  },
  {
   "cell_type": "code",
   "execution_count": 2,
   "metadata": {},
   "outputs": [],
   "source": [
    "from sklearn.feature_selection import mutual_info_regression, SelectKBest, chi2\n",
    "from sklearn.ensemble import ExtraTreesClassifier, RandomForestRegressor, RandomForestClassifier, StackingClassifier, GradientBoostingClassifier\n",
    "from sklearn.preprocessing import StandardScaler, scale, MinMaxScaler\n",
    "from sklearn.decomposition import PCA\n",
    "from sklearn.metrics import accuracy_score, classification_report, confusion_matrix, mean_absolute_percentage_error, mean_squared_error, roc_auc_score, log_loss, precision_recall_fscore_support, mean_absolute_error, roc_curve, auc, f1_score, make_scorer, precision_score, recall_score, r2_score\n",
    "from sklearn.model_selection import train_test_split, cross_val_score, cross_validate, GridSearchCV, RandomizedSearchCV\n",
    "from sklearn.linear_model import LogisticRegression\n",
    "from sklearn.pipeline import Pipeline\n",
    "\n",
    "from sklearn.discriminant_analysis import QuadraticDiscriminantAnalysis\n",
    "from sklearn.discriminant_analysis import LinearDiscriminantAnalysis\n",
    "\n",
    "from imblearn.over_sampling import RandomOverSampler, SMOTE\n",
    "from eli5.sklearn import PermutationImportance\n",
    "from pprint import pprint\n",
    "\n",
    "from xgboost import XGBRegressor, XGBClassifier"
   ]
  },
  {
   "cell_type": "markdown",
   "metadata": {},
   "source": [
    "---"
   ]
  },
  {
   "cell_type": "code",
   "execution_count": 3,
   "metadata": {},
   "outputs": [],
   "source": [
    "pd.set_option('display.max_columns', None)"
   ]
  },
  {
   "cell_type": "markdown",
   "metadata": {},
   "source": [
    "---"
   ]
  },
  {
   "cell_type": "markdown",
   "metadata": {},
   "source": [
    "## Load dataset"
   ]
  },
  {
   "cell_type": "code",
   "execution_count": 4,
   "metadata": {},
   "outputs": [
    {
     "data": {
      "text/plain": [
       "(372488, 38)"
      ]
     },
     "execution_count": 4,
     "metadata": {},
     "output_type": "execute_result"
    }
   ],
   "source": [
    "path = 'dataset/cleaned_data.csv'\n",
    "df = pd.read_csv(path)\n",
    "df.shape"
   ]
  },
  {
   "cell_type": "markdown",
   "metadata": {},
   "source": [
    "## Extra processing to remove all null entries"
   ]
  },
  {
   "cell_type": "code",
   "execution_count": 5,
   "metadata": {},
   "outputs": [
    {
     "name": "stdout",
     "output_type": "stream",
     "text": [
      "BidsPortfolioManager                       0.000000\n",
      "BidsApi                                    0.000000\n",
      "BidsManual                                 0.000000\n",
      "NewCreditCustomer                          0.000000\n",
      "VerificationType                           0.000000\n",
      "LanguageCode                               0.000000\n",
      "Age                                        0.000000\n",
      "Gender                                     0.000000\n",
      "Country                                    0.000000\n",
      "AppliedAmount                              0.000000\n",
      "Amount                                     0.000000\n",
      "Interest                                   0.000000\n",
      "LoanDuration                               0.000000\n",
      "MonthlyPayment                             0.000000\n",
      "Education                                  0.000000\n",
      "MaritalStatus                             90.192973\n",
      "EmploymentStatus                          90.240223\n",
      "EmploymentDurationCurrentEmployer          0.000000\n",
      "OccupationArea                            90.218477\n",
      "HomeOwnershipType                          0.000000\n",
      "IncomeTotal                                0.000000\n",
      "ExistingLiabilities                        0.000000\n",
      "LiabilitiesTotal                           0.000000\n",
      "RefinanceLiabilities                       0.000000\n",
      "DebtToIncome                               0.000000\n",
      "FreeCash                                   0.000000\n",
      "Rating                                     0.000000\n",
      "Restructured                               0.000000\n",
      "CreditScoreEsMicroL                        0.000000\n",
      "PrincipalPaymentsMade                      0.000000\n",
      "InterestAndPenaltyPaymentsMade             0.000000\n",
      "PrincipalBalance                           0.000000\n",
      "NoOfPreviousLoansBeforeLoan                0.003490\n",
      "AmountOfPreviousLoansBeforeLoan            0.003490\n",
      "PreviousRepaymentsBeforeLoan               0.000000\n",
      "PreviousEarlyRepaymentsCountBeforeLoan     0.003490\n",
      "loanStatus                                 0.000000\n",
      "YearMonth                                  0.000000\n",
      "dtype: float64\n"
     ]
    }
   ],
   "source": [
    "# print null percentages\n",
    "print(df.isnull().mean() * 100)"
   ]
  },
  {
   "cell_type": "markdown",
   "metadata": {},
   "source": [
    "### this Rows containing nulls should be dropped in earlier steps but i kept them fo visualizations in EDA part lets remove them now"
   ]
  },
  {
   "cell_type": "code",
   "execution_count": 6,
   "metadata": {},
   "outputs": [
    {
     "data": {
      "text/plain": [
       "Index(['MaritalStatus', 'EmploymentStatus', 'OccupationArea'], dtype='object')"
      ]
     },
     "execution_count": 6,
     "metadata": {},
     "output_type": "execute_result"
    }
   ],
   "source": [
    "# if nulls in column are more than 50% then drop the column\n",
    "null_val = (df.isnull().sum() / len(df))*100\n",
    "missing_features = null_val[null_val > 40].index\n",
    "missing_features"
   ]
  },
  {
   "cell_type": "code",
   "execution_count": 7,
   "metadata": {},
   "outputs": [
    {
     "data": {
      "text/plain": [
       "(372488, 35)"
      ]
     },
     "execution_count": 7,
     "metadata": {},
     "output_type": "execute_result"
    }
   ],
   "source": [
    "# drop this columns\n",
    "df.drop(missing_features, axis=1, inplace=True)\n",
    "df.shape"
   ]
  },
  {
   "cell_type": "code",
   "execution_count": 8,
   "metadata": {},
   "outputs": [],
   "source": [
    "missing_categorical = df.select_dtypes(include='object').isnull().sum()\n",
    "missing_numerical = df.select_dtypes(include='number').isnull().sum()"
   ]
  },
  {
   "cell_type": "code",
   "execution_count": 9,
   "metadata": {},
   "outputs": [
    {
     "name": "stdout",
     "output_type": "stream",
     "text": [
      "VerificationType                     0\n",
      "LanguageCode                         0\n",
      "Gender                               0\n",
      "Country                              0\n",
      "Education                            0\n",
      "EmploymentDurationCurrentEmployer    0\n",
      "HomeOwnershipType                    0\n",
      "Rating                               0\n",
      "CreditScoreEsMicroL                  0\n",
      "YearMonth                            0\n",
      "dtype: int64\n",
      "BidsPortfolioManager                       0\n",
      "BidsApi                                    0\n",
      "BidsManual                                 0\n",
      "Age                                        0\n",
      "AppliedAmount                              0\n",
      "Amount                                     0\n",
      "Interest                                   0\n",
      "LoanDuration                               0\n",
      "MonthlyPayment                             0\n",
      "IncomeTotal                                0\n",
      "ExistingLiabilities                        0\n",
      "LiabilitiesTotal                           0\n",
      "RefinanceLiabilities                       0\n",
      "DebtToIncome                               0\n",
      "FreeCash                                   0\n",
      "PrincipalPaymentsMade                      0\n",
      "InterestAndPenaltyPaymentsMade             0\n",
      "PrincipalBalance                           0\n",
      "NoOfPreviousLoansBeforeLoan               13\n",
      "AmountOfPreviousLoansBeforeLoan           13\n",
      "PreviousRepaymentsBeforeLoan               0\n",
      "PreviousEarlyRepaymentsCountBeforeLoan    13\n",
      "loanStatus                                 0\n",
      "dtype: int64\n"
     ]
    }
   ],
   "source": [
    "print(missing_categorical)\n",
    "print(missing_numerical)"
   ]
  },
  {
   "cell_type": "code",
   "execution_count": 10,
   "metadata": {},
   "outputs": [
    {
     "name": "stdout",
     "output_type": "stream",
     "text": [
      "218.17048602908014\n",
      "1.1572882884817766\n",
      "162.21904889285028\n",
      "40.426561392581775\n",
      "2612.6051613872123\n",
      "2543.2344585930286\n",
      "25.77310090526407\n",
      "49.66280792938296\n",
      "98.77597710873167\n",
      "1814.264423095509\n",
      "2.4508709005390776\n",
      "332.29151851871734\n",
      "0.0\n",
      "2.804985354227683\n",
      "44.13411008089152\n",
      "1046.0064051217757\n",
      "455.3340661374325\n",
      "2351.4341309019355\n",
      "1.811496073561984\n",
      "3758.0214360437612\n",
      "1180.7371059457075\n",
      "0.045815155379555675\n",
      "0.32374734219625867\n"
     ]
    }
   ],
   "source": [
    "for col in missing_categorical.keys():\n",
    "    df[col]= df[col].interpolate('ffill')\n",
    "    df[col]= df[col].interpolate('bfill')\n",
    "    \n",
    "    \n",
    "for col in missing_numerical.keys():\n",
    "    mean=df[col].mean()\n",
    "    print(mean)\n",
    "    df[col].fillna(mean,inplace=True)"
   ]
  },
  {
   "cell_type": "code",
   "execution_count": 11,
   "metadata": {},
   "outputs": [],
   "source": [
    "# save the dataset \n",
    "df.to_csv('dataset\\preprocessed_2.csv', index=False)"
   ]
  },
  {
   "cell_type": "code",
   "execution_count": 12,
   "metadata": {},
   "outputs": [
    {
     "name": "stdout",
     "output_type": "stream",
     "text": [
      "(372488, 35)\n"
     ]
    }
   ],
   "source": [
    "print(df.shape)"
   ]
  },
  {
   "cell_type": "markdown",
   "metadata": {},
   "source": [
    "---"
   ]
  },
  {
   "cell_type": "code",
   "execution_count": 13,
   "metadata": {},
   "outputs": [],
   "source": [
    "X = df.copy()\n",
    "y = df[['loanStatus']]\n",
    "\n",
    "X.drop(['loanStatus'], axis=1, inplace=True)"
   ]
  },
  {
   "cell_type": "markdown",
   "metadata": {},
   "source": [
    "---"
   ]
  },
  {
   "cell_type": "code",
   "execution_count": 15,
   "metadata": {},
   "outputs": [
    {
     "data": {
      "text/plain": [
       "(372488, 34)"
      ]
     },
     "execution_count": 15,
     "metadata": {},
     "output_type": "execute_result"
    }
   ],
   "source": [
    "# handle categorical variables using one hot encoding\n",
    "# X = pd.get_dummies(X, drop_first=True)\n",
    "\n",
    "# handle categorical variables using label encoding\n",
    "from sklearn.preprocessing import LabelEncoder\n",
    "le = LabelEncoder()\n",
    "\n",
    "for col in X.columns:\n",
    "    if X[col].dtype == 'object':\n",
    "        X[col] = le.fit_transform(X[col])\n",
    "X.shape\n"
   ]
  },
  {
   "cell_type": "code",
   "execution_count": 16,
   "metadata": {},
   "outputs": [
    {
     "data": {
      "text/html": [
       "<div>\n",
       "<style scoped>\n",
       "    .dataframe tbody tr th:only-of-type {\n",
       "        vertical-align: middle;\n",
       "    }\n",
       "\n",
       "    .dataframe tbody tr th {\n",
       "        vertical-align: top;\n",
       "    }\n",
       "\n",
       "    .dataframe thead th {\n",
       "        text-align: right;\n",
       "    }\n",
       "</style>\n",
       "<table border=\"1\" class=\"dataframe\">\n",
       "  <thead>\n",
       "    <tr style=\"text-align: right;\">\n",
       "      <th></th>\n",
       "      <th>BidsPortfolioManager</th>\n",
       "      <th>BidsApi</th>\n",
       "      <th>BidsManual</th>\n",
       "      <th>NewCreditCustomer</th>\n",
       "      <th>VerificationType</th>\n",
       "      <th>LanguageCode</th>\n",
       "      <th>Age</th>\n",
       "      <th>Gender</th>\n",
       "      <th>Country</th>\n",
       "      <th>AppliedAmount</th>\n",
       "      <th>Amount</th>\n",
       "      <th>Interest</th>\n",
       "      <th>LoanDuration</th>\n",
       "      <th>MonthlyPayment</th>\n",
       "      <th>Education</th>\n",
       "      <th>EmploymentDurationCurrentEmployer</th>\n",
       "      <th>HomeOwnershipType</th>\n",
       "      <th>IncomeTotal</th>\n",
       "      <th>ExistingLiabilities</th>\n",
       "      <th>LiabilitiesTotal</th>\n",
       "      <th>RefinanceLiabilities</th>\n",
       "      <th>DebtToIncome</th>\n",
       "      <th>FreeCash</th>\n",
       "      <th>Rating</th>\n",
       "      <th>Restructured</th>\n",
       "      <th>CreditScoreEsMicroL</th>\n",
       "      <th>PrincipalPaymentsMade</th>\n",
       "      <th>InterestAndPenaltyPaymentsMade</th>\n",
       "      <th>PrincipalBalance</th>\n",
       "      <th>NoOfPreviousLoansBeforeLoan</th>\n",
       "      <th>AmountOfPreviousLoansBeforeLoan</th>\n",
       "      <th>PreviousRepaymentsBeforeLoan</th>\n",
       "      <th>PreviousEarlyRepaymentsCountBeforeLoan</th>\n",
       "      <th>YearMonth</th>\n",
       "    </tr>\n",
       "  </thead>\n",
       "  <tbody>\n",
       "    <tr>\n",
       "      <th>0</th>\n",
       "      <td>11.0</td>\n",
       "      <td>0.0</td>\n",
       "      <td>88.0</td>\n",
       "      <td>False</td>\n",
       "      <td>0</td>\n",
       "      <td>3</td>\n",
       "      <td>27.0</td>\n",
       "      <td>2</td>\n",
       "      <td>0</td>\n",
       "      <td>3189.0</td>\n",
       "      <td>3189.0</td>\n",
       "      <td>35.48</td>\n",
       "      <td>60.0</td>\n",
       "      <td>115.34</td>\n",
       "      <td>4</td>\n",
       "      <td>8</td>\n",
       "      <td>5</td>\n",
       "      <td>900.0</td>\n",
       "      <td>0.0</td>\n",
       "      <td>0.00</td>\n",
       "      <td>0.0</td>\n",
       "      <td>0.00</td>\n",
       "      <td>0.00</td>\n",
       "      <td>4</td>\n",
       "      <td>False</td>\n",
       "      <td>5</td>\n",
       "      <td>721.65</td>\n",
       "      <td>1330.8600</td>\n",
       "      <td>3195.94</td>\n",
       "      <td>1.0</td>\n",
       "      <td>3402.0</td>\n",
       "      <td>1161.57</td>\n",
       "      <td>0.0</td>\n",
       "      <td>162</td>\n",
       "    </tr>\n",
       "    <tr>\n",
       "      <th>1</th>\n",
       "      <td>0.0</td>\n",
       "      <td>0.0</td>\n",
       "      <td>0.0</td>\n",
       "      <td>False</td>\n",
       "      <td>0</td>\n",
       "      <td>4</td>\n",
       "      <td>35.0</td>\n",
       "      <td>2</td>\n",
       "      <td>1</td>\n",
       "      <td>4146.0</td>\n",
       "      <td>4146.0</td>\n",
       "      <td>19.86</td>\n",
       "      <td>60.0</td>\n",
       "      <td>108.17</td>\n",
       "      <td>1</td>\n",
       "      <td>8</td>\n",
       "      <td>6</td>\n",
       "      <td>3100.0</td>\n",
       "      <td>0.0</td>\n",
       "      <td>0.00</td>\n",
       "      <td>0.0</td>\n",
       "      <td>0.00</td>\n",
       "      <td>0.00</td>\n",
       "      <td>2</td>\n",
       "      <td>True</td>\n",
       "      <td>4</td>\n",
       "      <td>272.34</td>\n",
       "      <td>493.8575</td>\n",
       "      <td>5405.25</td>\n",
       "      <td>1.0</td>\n",
       "      <td>518.0</td>\n",
       "      <td>525.21</td>\n",
       "      <td>0.0</td>\n",
       "      <td>170</td>\n",
       "    </tr>\n",
       "    <tr>\n",
       "      <th>2</th>\n",
       "      <td>0.0</td>\n",
       "      <td>0.0</td>\n",
       "      <td>0.0</td>\n",
       "      <td>False</td>\n",
       "      <td>0</td>\n",
       "      <td>3</td>\n",
       "      <td>23.0</td>\n",
       "      <td>0</td>\n",
       "      <td>0</td>\n",
       "      <td>531.0</td>\n",
       "      <td>531.0</td>\n",
       "      <td>19.52</td>\n",
       "      <td>60.0</td>\n",
       "      <td>15.25</td>\n",
       "      <td>1</td>\n",
       "      <td>8</td>\n",
       "      <td>8</td>\n",
       "      <td>1700.0</td>\n",
       "      <td>0.0</td>\n",
       "      <td>0.00</td>\n",
       "      <td>0.0</td>\n",
       "      <td>0.00</td>\n",
       "      <td>0.00</td>\n",
       "      <td>2</td>\n",
       "      <td>False</td>\n",
       "      <td>0</td>\n",
       "      <td>5.52</td>\n",
       "      <td>5.0700</td>\n",
       "      <td>2086.07</td>\n",
       "      <td>3.0</td>\n",
       "      <td>1593.0</td>\n",
       "      <td>631.35</td>\n",
       "      <td>0.0</td>\n",
       "      <td>178</td>\n",
       "    </tr>\n",
       "    <tr>\n",
       "      <th>3</th>\n",
       "      <td>817.5</td>\n",
       "      <td>5.0</td>\n",
       "      <td>5.0</td>\n",
       "      <td>False</td>\n",
       "      <td>0</td>\n",
       "      <td>3</td>\n",
       "      <td>53.0</td>\n",
       "      <td>2</td>\n",
       "      <td>0</td>\n",
       "      <td>2125.0</td>\n",
       "      <td>2125.0</td>\n",
       "      <td>20.97</td>\n",
       "      <td>60.0</td>\n",
       "      <td>62.05</td>\n",
       "      <td>3</td>\n",
       "      <td>0</td>\n",
       "      <td>6</td>\n",
       "      <td>354.0</td>\n",
       "      <td>8.0</td>\n",
       "      <td>485.09</td>\n",
       "      <td>0.0</td>\n",
       "      <td>26.29</td>\n",
       "      <td>10.92</td>\n",
       "      <td>3</td>\n",
       "      <td>False</td>\n",
       "      <td>4</td>\n",
       "      <td>1026.77</td>\n",
       "      <td>1187.9100</td>\n",
       "      <td>1381.59</td>\n",
       "      <td>1.0</td>\n",
       "      <td>500.0</td>\n",
       "      <td>590.95</td>\n",
       "      <td>0.0</td>\n",
       "      <td>85</td>\n",
       "    </tr>\n",
       "    <tr>\n",
       "      <th>4</th>\n",
       "      <td>0.0</td>\n",
       "      <td>0.0</td>\n",
       "      <td>0.0</td>\n",
       "      <td>False</td>\n",
       "      <td>0</td>\n",
       "      <td>4</td>\n",
       "      <td>43.0</td>\n",
       "      <td>0</td>\n",
       "      <td>1</td>\n",
       "      <td>414.0</td>\n",
       "      <td>414.0</td>\n",
       "      <td>19.89</td>\n",
       "      <td>96.0</td>\n",
       "      <td>6.65</td>\n",
       "      <td>4</td>\n",
       "      <td>1</td>\n",
       "      <td>8</td>\n",
       "      <td>1200.0</td>\n",
       "      <td>0.0</td>\n",
       "      <td>0.00</td>\n",
       "      <td>0.0</td>\n",
       "      <td>0.00</td>\n",
       "      <td>0.00</td>\n",
       "      <td>4</td>\n",
       "      <td>False</td>\n",
       "      <td>0</td>\n",
       "      <td>9.05</td>\n",
       "      <td>32.9175</td>\n",
       "      <td>1947.54</td>\n",
       "      <td>5.0</td>\n",
       "      <td>11198.0</td>\n",
       "      <td>1176.22</td>\n",
       "      <td>0.0</td>\n",
       "      <td>174</td>\n",
       "    </tr>\n",
       "  </tbody>\n",
       "</table>\n",
       "</div>"
      ],
      "text/plain": [
       "   BidsPortfolioManager  BidsApi  BidsManual  NewCreditCustomer  \\\n",
       "0                  11.0      0.0        88.0              False   \n",
       "1                   0.0      0.0         0.0              False   \n",
       "2                   0.0      0.0         0.0              False   \n",
       "3                 817.5      5.0         5.0              False   \n",
       "4                   0.0      0.0         0.0              False   \n",
       "\n",
       "   VerificationType  LanguageCode   Age  Gender  Country  AppliedAmount  \\\n",
       "0                 0             3  27.0       2        0         3189.0   \n",
       "1                 0             4  35.0       2        1         4146.0   \n",
       "2                 0             3  23.0       0        0          531.0   \n",
       "3                 0             3  53.0       2        0         2125.0   \n",
       "4                 0             4  43.0       0        1          414.0   \n",
       "\n",
       "   Amount  Interest  LoanDuration  MonthlyPayment  Education  \\\n",
       "0  3189.0     35.48          60.0          115.34          4   \n",
       "1  4146.0     19.86          60.0          108.17          1   \n",
       "2   531.0     19.52          60.0           15.25          1   \n",
       "3  2125.0     20.97          60.0           62.05          3   \n",
       "4   414.0     19.89          96.0            6.65          4   \n",
       "\n",
       "   EmploymentDurationCurrentEmployer  HomeOwnershipType  IncomeTotal  \\\n",
       "0                                  8                  5        900.0   \n",
       "1                                  8                  6       3100.0   \n",
       "2                                  8                  8       1700.0   \n",
       "3                                  0                  6        354.0   \n",
       "4                                  1                  8       1200.0   \n",
       "\n",
       "   ExistingLiabilities  LiabilitiesTotal  RefinanceLiabilities  DebtToIncome  \\\n",
       "0                  0.0              0.00                   0.0          0.00   \n",
       "1                  0.0              0.00                   0.0          0.00   \n",
       "2                  0.0              0.00                   0.0          0.00   \n",
       "3                  8.0            485.09                   0.0         26.29   \n",
       "4                  0.0              0.00                   0.0          0.00   \n",
       "\n",
       "   FreeCash  Rating  Restructured  CreditScoreEsMicroL  PrincipalPaymentsMade  \\\n",
       "0      0.00       4         False                    5                 721.65   \n",
       "1      0.00       2          True                    4                 272.34   \n",
       "2      0.00       2         False                    0                   5.52   \n",
       "3     10.92       3         False                    4                1026.77   \n",
       "4      0.00       4         False                    0                   9.05   \n",
       "\n",
       "   InterestAndPenaltyPaymentsMade  PrincipalBalance  \\\n",
       "0                       1330.8600           3195.94   \n",
       "1                        493.8575           5405.25   \n",
       "2                          5.0700           2086.07   \n",
       "3                       1187.9100           1381.59   \n",
       "4                         32.9175           1947.54   \n",
       "\n",
       "   NoOfPreviousLoansBeforeLoan  AmountOfPreviousLoansBeforeLoan  \\\n",
       "0                          1.0                           3402.0   \n",
       "1                          1.0                            518.0   \n",
       "2                          3.0                           1593.0   \n",
       "3                          1.0                            500.0   \n",
       "4                          5.0                          11198.0   \n",
       "\n",
       "   PreviousRepaymentsBeforeLoan  PreviousEarlyRepaymentsCountBeforeLoan  \\\n",
       "0                       1161.57                                     0.0   \n",
       "1                        525.21                                     0.0   \n",
       "2                        631.35                                     0.0   \n",
       "3                        590.95                                     0.0   \n",
       "4                       1176.22                                     0.0   \n",
       "\n",
       "   YearMonth  \n",
       "0        162  \n",
       "1        170  \n",
       "2        178  \n",
       "3         85  \n",
       "4        174  "
      ]
     },
     "execution_count": 16,
     "metadata": {},
     "output_type": "execute_result"
    }
   ],
   "source": [
    "X.head()"
   ]
  },
  {
   "cell_type": "code",
   "execution_count": 17,
   "metadata": {},
   "outputs": [],
   "source": [
    "over = RandomOverSampler(random_state=0)\n",
    "smote = SMOTE()\n",
    "\n",
    "stdscaler = StandardScaler()\n",
    "scaler = MinMaxScaler()\n",
    "\n",
    "pca = PCA(n_components=20)"
   ]
  },
  {
   "cell_type": "markdown",
   "metadata": {},
   "source": [
    "---"
   ]
  },
  {
   "cell_type": "markdown",
   "metadata": {},
   "source": [
    "## classification"
   ]
  },
  {
   "cell_type": "code",
   "execution_count": 18,
   "metadata": {},
   "outputs": [],
   "source": [
    "def plot_roc(y_test,preds,model):\n",
    "    \"\"\" \n",
    "    Plot the ROC curve  \n",
    "\n",
    "    Parameters\n",
    "    ----------\n",
    "    y_test : pandas.Series\n",
    "        the true values that we will predict\n",
    "    preds : numpy.ndarray\n",
    "        the predicted values\n",
    "    model : str\n",
    "        the name of the model\n",
    "\n",
    "    Return\n",
    "    ------ \n",
    "    A plot of the roc curve for the given model \n",
    "    \"\"\"\n",
    "    fpr, tpr, thresh = roc_curve(y_test, preds)\n",
    "    roc_auc = auc(fpr, tpr)\n",
    "    print('roc_auc_score for {}: '.format(model), roc_auc_score(y_test, preds))\n",
    "    plt.subplots(1, figsize=(10,10))\n",
    "    plt.title('ROC curve')\n",
    "    plt.plot(fpr, tpr, 'b', label = 'AUC = %0.4f' % roc_auc)\n",
    "    plt.legend(loc = 'lower right')\n",
    "    plt.plot([0, 1], ls=\"--\")\n",
    "    plt.plot([0, 0], [1, 0] , c=\".7\"), plt.plot([1, 1] , c=\".7\")\n",
    "    plt.ylabel('True Positive Rate')\n",
    "    plt.xlabel('False Positive Rate')\n",
    "    plt.show()"
   ]
  },
  {
   "cell_type": "code",
   "execution_count": 19,
   "metadata": {},
   "outputs": [],
   "source": [
    "def plot_report(y_test, preds,targets = None):\n",
    "    \"\"\" \n",
    "    Plot classification report \n",
    "\n",
    "    Parameters\n",
    "    ----------\n",
    "    y_test : pandas.Series\n",
    "        the true values that we will predict\n",
    "    preds : numpy.ndarray\n",
    "        the predicted values\n",
    "    target_names : list\n",
    "        A list that contains the target classes names\n",
    "\n",
    "    Return\n",
    "    ------ \n",
    "    Classification report plot \n",
    "    \"\"\"\n",
    "    clf_report = classification_report(y_test,\n",
    "                                       preds,\n",
    "                                       target_names=targets,\n",
    "                                       output_dict=True)\n",
    "    sns.heatmap(pd.DataFrame(clf_report).iloc[:-1, :].T, annot=True,cmap=\"Greens\")"
   ]
  },
  {
   "cell_type": "code",
   "execution_count": 20,
   "metadata": {},
   "outputs": [],
   "source": [
    "rob_scaler = StandardScaler()\n",
    "for col in X.columns:\n",
    "    X[col] = rob_scaler.fit_transform(X[col].values.reshape(-1,1))\n",
    "    \n",
    "    \n",
    "X_train, X_test, y_train, y_test = train_test_split(X, y, test_size=0.2, random_state=42)\n",
    "# save the train,test data\n",
    "train = pd.concat([X_train, y_train], axis=1)\n",
    "test = pd.concat([X_test, y_test], axis=1)\n",
    "\n",
    "train.to_csv('dataset/preprocessed_train.csv', index=False)\n",
    "test.to_csv('dataset/preprocessed_test.csv', index=False)\n",
    "\n",
    "\n",
    "# save sample of data\n",
    "sample = train.sample(1000)\n",
    "sample_test = test.sample(100)\n",
    "\n",
    "sample.to_csv('dataset/mini_sample.csv', index=False)\n",
    "sample_test.to_csv('dataset/mini_sample_test.csv', index=False)\n",
    "\n",
    "\n"
   ]
  },
  {
   "cell_type": "markdown",
   "metadata": {},
   "source": [
    "## **train, test split**"
   ]
  },
  {
   "cell_type": "code",
   "execution_count": 21,
   "metadata": {},
   "outputs": [],
   "source": [
    "X_train, X_test, y_train, y_test = train_test_split(X, y, test_size=0.3, random_state=42)\n"
   ]
  },
  {
   "cell_type": "code",
   "execution_count": 22,
   "metadata": {},
   "outputs": [
    {
     "data": {
      "text/plain": [
       "loanStatus\n",
       "0.0           176333\n",
       "1.0            84408\n",
       "Name: count, dtype: int64"
      ]
     },
     "execution_count": 22,
     "metadata": {},
     "output_type": "execute_result"
    }
   ],
   "source": [
    "y_train.value_counts()"
   ]
  },
  {
   "cell_type": "markdown",
   "metadata": {},
   "source": [
    "## Logistic Regression "
   ]
  },
  {
   "cell_type": "code",
   "execution_count": 23,
   "metadata": {},
   "outputs": [
    {
     "name": "stdout",
     "output_type": "stream",
     "text": [
      "test accuracy =  81.62 %\n"
     ]
    }
   ],
   "source": [
    "log = LogisticRegression(C= 100, penalty= 'l2', solver='newton-cg')\n",
    "log.fit(X_train, y_train)\n",
    "preds = log.predict(X_test)\n",
    "print('test accuracy = ', round(accuracy_score(y_test, preds)*100, 2), '%')"
   ]
  },
  {
   "cell_type": "code",
   "execution_count": 24,
   "metadata": {},
   "outputs": [
    {
     "name": "stdout",
     "output_type": "stream",
     "text": [
      "roc_auc_score for Logistic Regression:  0.7648701994852706\n"
     ]
    },
    {
     "data": {
      "image/png": "[encoded data removed]",
      "text/plain": [
       "<Figure size 1000x1000 with 1 Axes>"
      ]
     },
     "metadata": {},
     "output_type": "display_data"
    },
    {
     "data": {
      "image/png": "[encoded data removed]",
      "text/plain": [
       "<Figure size 640x480 with 2 Axes>"
      ]
     },
     "metadata": {},
     "output_type": "display_data"
    }
   ],
   "source": [
    "plot_roc(y_test, preds, 'Logistic Regression')\n",
    "plot_report(y_test, preds)"
   ]
  },
  {
   "cell_type": "markdown",
   "metadata": {},
   "source": [
    "## **Ensemble learning**"
   ]
  },
  {
   "cell_type": "code",
   "execution_count": 25,
   "metadata": {},
   "outputs": [],
   "source": [
    "qda = QuadraticDiscriminantAnalysis()\n",
    "\n",
    "rf = RandomForestClassifier(random_state=0)"
   ]
  },
  {
   "cell_type": "code",
   "execution_count": 26,
   "metadata": {},
   "outputs": [],
   "source": [
    "estimators = [('QDA', qda), ('RandomForest', rf)]\n",
    "final_estimator = GradientBoostingClassifier(n_estimators=100, learning_rate=0.1, max_depth=1, random_state=0)\n",
    "clf = StackingClassifier(estimators=estimators, final_estimator=final_estimator)"
   ]
  },
  {
   "cell_type": "code",
   "execution_count": 27,
   "metadata": {},
   "outputs": [],
   "source": [
    "model_ensemble = Pipeline([\n",
    "    ('classifier', clf)\n",
    "])"
   ]
  },
  {
   "cell_type": "code",
   "execution_count": null,
   "metadata": {},
   "outputs": [],
   "source": [
    "model_ensemble.fit(X_train, y_train)\n",
    "pred = model_ensemble.predict(X_test)\n",
    "print('test accuracy = ', round(accuracy_score(y_test, pred)*100, 2), '%')"
   ]
  },
  {
   "cell_type": "code",
   "execution_count": null,
   "metadata": {},
   "outputs": [
    {
     "name": "stdout",
     "output_type": "stream",
     "text": [
      "roc_auc_score for ensemble model:  0.9234669728399676\n"
     ]
    },
    {
     "data": {
      "image/png": "[encoded data removed]",
      "text/plain": [
       "<Figure size 1000x1000 with 1 Axes>"
      ]
     },
     "metadata": {},
     "output_type": "display_data"
    },
    {
     "data": {
      "image/png": "[encoded data removed]",
      "text/plain": [
       "<Figure size 640x480 with 2 Axes>"
      ]
     },
     "metadata": {},
     "output_type": "display_data"
    }
   ],
   "source": [
    "plot_roc(y_test, pred, 'ensemble model')\n",
    "plot_report(y_test, pred)"
   ]
  },
  {
   "cell_type": "code",
   "execution_count": null,
   "metadata": {},
   "outputs": [
    {
     "name": "stdout",
     "output_type": "stream",
     "text": [
      "              precision    recall  f1-score   support\n",
      "\n",
      "           0      0.943     0.968     0.955     50288\n",
      "           1      0.930     0.879     0.904     24221\n",
      "\n",
      "    accuracy                          0.939     74509\n",
      "   macro avg      0.936     0.923     0.930     74509\n",
      "weighted avg      0.939     0.939     0.939     74509\n",
      "\n"
     ]
    }
   ],
   "source": [
    "print(classification_report(y_test, pred, digits=3))"
   ]
  },
  {
   "cell_type": "markdown",
   "metadata": {},
   "source": [
    "**QDA**"
   ]
  },
  {
   "cell_type": "code",
   "execution_count": null,
   "metadata": {},
   "outputs": [],
   "source": [
    "model_qda = Pipeline([\n",
    "    ('classifier', qda)\n",
    "])"
   ]
  },
  {
   "cell_type": "code",
   "execution_count": null,
   "metadata": {},
   "outputs": [
    {
     "name": "stdout",
     "output_type": "stream",
     "text": [
      "test accuracy =  75.22 %\n"
     ]
    }
   ],
   "source": [
    "model_qda.fit(X_train, y_train)\n",
    "pred = model_qda.predict(X_test)\n",
    "print('test accuracy = ', round(accuracy_score(y_test, pred)*100, 2), '%')"
   ]
  },
  {
   "cell_type": "code",
   "execution_count": null,
   "metadata": {},
   "outputs": [
    {
     "name": "stdout",
     "output_type": "stream",
     "text": [
      "              precision    recall  f1-score   support\n",
      "\n",
      "           0      0.754     0.939     0.837     50288\n",
      "           1      0.743     0.364     0.488     24221\n",
      "\n",
      "    accuracy                          0.752     74509\n",
      "   macro avg      0.748     0.651     0.662     74509\n",
      "weighted avg      0.750     0.752     0.723     74509\n",
      "\n"
     ]
    }
   ],
   "source": [
    "print(classification_report(y_test, pred, digits=3))"
   ]
  },
  {
   "cell_type": "markdown",
   "metadata": {},
   "source": [
    "**Random Forest**"
   ]
  },
  {
   "cell_type": "code",
   "execution_count": null,
   "metadata": {},
   "outputs": [],
   "source": [
    "model_rf = Pipeline([\n",
    "    ('classifier', rf)\n",
    "])"
   ]
  },
  {
   "cell_type": "code",
   "execution_count": null,
   "metadata": {},
   "outputs": [
    {
     "name": "stdout",
     "output_type": "stream",
     "text": [
      "test accuracy =  93.58 %\n"
     ]
    }
   ],
   "source": [
    "model_rf.fit(X_train, y_train)\n",
    "pred = model_rf.predict(X_test)\n",
    "print('test accuracy = ', round(accuracy_score(y_test, pred)*100, 2), '%')"
   ]
  },
  {
   "cell_type": "code",
   "execution_count": null,
   "metadata": {},
   "outputs": [
    {
     "name": "stdout",
     "output_type": "stream",
     "text": [
      "              precision    recall  f1-score   support\n",
      "\n",
      "           0      0.926     0.983     0.954     50288\n",
      "           1      0.960     0.838     0.895     24221\n",
      "\n",
      "    accuracy                          0.936     74509\n",
      "   macro avg      0.943     0.910     0.924     74509\n",
      "weighted avg      0.937     0.936     0.935     74509\n",
      "\n"
     ]
    }
   ],
   "source": [
    "print(classification_report(y_test, pred, digits=3))"
   ]
  },
  {
   "cell_type": "markdown",
   "metadata": {},
   "source": [
    "---"
   ]
  },
  {
   "cell_type": "markdown",
   "metadata": {},
   "source": [
    "## saving model"
   ]
  },
  {
   "cell_type": "code",
   "execution_count": null,
   "metadata": {},
   "outputs": [],
   "source": [
    "pickle.dump(model_ensemble, open(f'models/ensemble{str(datetime.now()).replace(\":\", \"_\")}_.pkl', 'wb'))\n",
    "pickle.dump(model_qda, open(f'models/qda{str(datetime.now()).replace(\":\", \"_\")}_.pkl', 'wb'))\n",
    "pickle.dump(model_rf, open(f'models/rf{str(datetime.now()).replace(\":\", \"_\")}_.pkl', 'wb'))"
   ]
  },
  {
   "cell_type": "markdown",
   "metadata": {},
   "source": [
    "---"
   ]
  }
 ],
 "metadata": {
  "kernelspec": {
   "display_name": "Python 3.9.0 64-bit",
   "language": "python",
   "name": "python3"
  },
  "language_info": {
   "codemirror_mode": {
    "name": "ipython",
    "version": 3
   },
   "file_extension": ".py",
   "mimetype": "text/x-python",
   "name": "python",
   "nbconvert_exporter": "python",
   "pygments_lexer": "ipython3",
   "version": "3.10.7"
  },
  "orig_nbformat": 4,
  "vscode": {
   "interpreter": {
    "hash": "8304880a3e767ad58ed1695f5214ef77ebbb8fdf4513a7eb4c0fbb1ff3deb86b"
   }
  }
 },
 "nbformat": 4,
 "nbformat_minor": 2
}

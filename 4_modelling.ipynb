{
 "cells": [
  {
   "cell_type": "code",
   "execution_count": 1,
   "metadata": {},
   "outputs": [],
   "source": [
    "import pandas as pd\n",
    "import numpy as np\n",
    "import warnings\n",
    "import matplotlib.pyplot as plt\n",
    "import seaborn as sns\n",
    "import eli5\n",
    "import pickle\n",
    "\n",
    "sns.set()\n",
    "warnings.filterwarnings('ignore')"
   ]
  },
  {
   "cell_type": "code",
   "execution_count": 2,
   "metadata": {},
   "outputs": [],
   "source": [
    "from sklearn.feature_selection import mutual_info_regression, SelectKBest, chi2\n",
    "from sklearn.ensemble import ExtraTreesClassifier, RandomForestRegressor, RandomForestClassifier, StackingClassifier, GradientBoostingClassifier\n",
    "from sklearn.preprocessing import StandardScaler, scale, MinMaxScaler\n",
    "from sklearn.decomposition import PCA\n",
    "from sklearn.metrics import accuracy_score, classification_report, confusion_matrix, mean_absolute_percentage_error, mean_squared_error, roc_auc_score, log_loss, precision_recall_fscore_support, mean_absolute_error, roc_curve, auc, f1_score, make_scorer, precision_score, recall_score, r2_score\n",
    "from sklearn.model_selection import train_test_split, cross_val_score, cross_validate, GridSearchCV, RandomizedSearchCV\n",
    "from sklearn.linear_model import LogisticRegression\n",
    "from sklearn.pipeline import Pipeline\n",
    "\n",
    "from sklearn.discriminant_analysis import QuadraticDiscriminantAnalysis\n",
    "from sklearn.discriminant_analysis import LinearDiscriminantAnalysis\n",
    "\n",
    "from imblearn.over_sampling import RandomOverSampler, SMOTE\n",
    "from eli5.sklearn import PermutationImportance\n",
    "from pprint import pprint\n",
    "\n",
    "from xgboost import XGBRegressor, XGBClassifier"
   ]
  },
  {
   "cell_type": "markdown",
   "metadata": {},
   "source": [
    "---"
   ]
  },
  {
   "cell_type": "code",
   "execution_count": 3,
   "metadata": {},
   "outputs": [],
   "source": [
    "pd.set_option('display.max_columns', None)"
   ]
  },
  {
   "cell_type": "markdown",
   "metadata": {},
   "source": [
    "---"
   ]
  },
  {
   "cell_type": "markdown",
   "metadata": {},
   "source": [
    "## Load dataset"
   ]
  },
  {
   "cell_type": "code",
   "execution_count": 4,
   "metadata": {},
   "outputs": [
    {
     "data": {
      "text/plain": [
       "(372541, 40)"
      ]
     },
     "execution_count": 4,
     "metadata": {},
     "output_type": "execute_result"
    }
   ],
   "source": [
    "path = 'dataset/preprocessed_data.csv'\n",
    "df = pd.read_csv(path)\n",
    "df.shape"
   ]
  },
  {
   "cell_type": "markdown",
   "metadata": {},
   "source": [
    "## Extra processing to remove all null entries"
   ]
  },
  {
   "cell_type": "code",
   "execution_count": 5,
   "metadata": {},
   "outputs": [
    {
     "name": "stdout",
     "output_type": "stream",
     "text": [
      "BidsPortfolioManager                       0.000000\n",
      "BidsApi                                    0.000000\n",
      "BidsManual                                 0.000000\n",
      "NewCreditCustomer                          0.000000\n",
      "FirstPaymentDate                           0.000000\n",
      "VerificationType                           0.013421\n",
      "LanguageCode                               0.000000\n",
      "Age                                        0.000000\n",
      "Gender                                     0.012079\n",
      "Country                                    0.000000\n",
      "AppliedAmount                              0.000000\n",
      "Amount                                     0.000000\n",
      "Interest                                   0.000000\n",
      "LoanDuration                               0.000000\n",
      "MonthlyPayment                             1.795775\n",
      "UseOfLoan                                 90.178799\n",
      "Education                                  2.880757\n",
      "MaritalStatus                             90.194368\n",
      "EmploymentStatus                          90.241611\n",
      "EmploymentDurationCurrentEmployer          2.924779\n",
      "OccupationArea                            90.219868\n",
      "HomeOwnershipType                          0.445589\n",
      "IncomeTotal                                0.000000\n",
      "ExistingLiabilities                        0.000000\n",
      "LiabilitiesTotal                           0.000000\n",
      "RefinanceLiabilities                       0.000000\n",
      "DebtToIncome                               0.013421\n",
      "FreeCash                                   0.013421\n",
      "MonthlyPaymentDay                          0.000000\n",
      "Rating                                     0.733611\n",
      "Restructured                               0.000000\n",
      "CreditScoreEsMicroL                        8.697029\n",
      "PrincipalPaymentsMade                      0.000000\n",
      "InterestAndPenaltyPaymentsMade             0.000000\n",
      "PrincipalBalance                           0.000000\n",
      "NoOfPreviousLoansBeforeLoan                0.003490\n",
      "AmountOfPreviousLoansBeforeLoan            0.003490\n",
      "PreviousRepaymentsBeforeLoan              38.117684\n",
      "PreviousEarlyRepaymentsCountBeforeLoan     0.003490\n",
      "loanStatus                                 0.000000\n",
      "dtype: float64\n"
     ]
    }
   ],
   "source": [
    "# print null percentages\n",
    "print(df.isnull().mean() * 100)"
   ]
  },
  {
   "cell_type": "markdown",
   "metadata": {},
   "source": [
    "### this Rows containing nulls should be dropped in earlier steps but i kept them fo visualizations in EDA part lets remove them now"
   ]
  },
  {
   "cell_type": "code",
   "execution_count": 6,
   "metadata": {},
   "outputs": [
    {
     "data": {
      "text/plain": [
       "Index(['UseOfLoan', 'MaritalStatus', 'EmploymentStatus', 'OccupationArea'], dtype='object')"
      ]
     },
     "execution_count": 6,
     "metadata": {},
     "output_type": "execute_result"
    }
   ],
   "source": [
    "# if nulls in column are more than 50% then drop the column\n",
    "null_val = (df.isnull().sum() / len(df))*100\n",
    "missing_features = null_val[null_val > 40].index\n",
    "missing_features"
   ]
  },
  {
   "cell_type": "code",
   "execution_count": 7,
   "metadata": {},
   "outputs": [
    {
     "data": {
      "text/plain": [
       "(372541, 36)"
      ]
     },
     "execution_count": 7,
     "metadata": {},
     "output_type": "execute_result"
    }
   ],
   "source": [
    "# drop this columns\n",
    "df.drop(missing_features, axis=1, inplace=True)\n",
    "df.shape"
   ]
  },
  {
   "cell_type": "code",
   "execution_count": 8,
   "metadata": {},
   "outputs": [],
   "source": [
    "missing_categorical = df.select_dtypes(include='object').isnull().sum()\n",
    "missing_numerical = df.select_dtypes(include='number').isnull().sum()"
   ]
  },
  {
   "cell_type": "code",
   "execution_count": 9,
   "metadata": {},
   "outputs": [
    {
     "name": "stdout",
     "output_type": "stream",
     "text": [
      "FirstPaymentDate                         0\n",
      "VerificationType                        50\n",
      "LanguageCode                             0\n",
      "Gender                                  45\n",
      "Country                                  0\n",
      "Education                            10732\n",
      "EmploymentDurationCurrentEmployer    10896\n",
      "HomeOwnershipType                     1660\n",
      "Rating                                2733\n",
      "CreditScoreEsMicroL                  32400\n",
      "dtype: int64\n",
      "BidsPortfolioManager                           0\n",
      "BidsApi                                        0\n",
      "BidsManual                                     0\n",
      "Age                                            0\n",
      "AppliedAmount                                  0\n",
      "Amount                                         0\n",
      "Interest                                       0\n",
      "LoanDuration                                   0\n",
      "MonthlyPayment                              6690\n",
      "IncomeTotal                                    0\n",
      "ExistingLiabilities                            0\n",
      "LiabilitiesTotal                               0\n",
      "RefinanceLiabilities                           0\n",
      "DebtToIncome                                  50\n",
      "FreeCash                                      50\n",
      "MonthlyPaymentDay                              0\n",
      "PrincipalPaymentsMade                          0\n",
      "InterestAndPenaltyPaymentsMade                 0\n",
      "PrincipalBalance                               0\n",
      "NoOfPreviousLoansBeforeLoan                   13\n",
      "AmountOfPreviousLoansBeforeLoan               13\n",
      "PreviousRepaymentsBeforeLoan              142004\n",
      "PreviousEarlyRepaymentsCountBeforeLoan        13\n",
      "loanStatus                                     0\n",
      "dtype: int64\n"
     ]
    }
   ],
   "source": [
    "print(missing_categorical)\n",
    "print(missing_numerical)"
   ]
  },
  {
   "cell_type": "code",
   "execution_count": 10,
   "metadata": {},
   "outputs": [
    {
     "name": "stdout",
     "output_type": "stream",
     "text": [
      "408.8715550771593\n",
      "15.004781379767595\n",
      "261.4787901637672\n",
      "40.420839585441605\n",
      "2638.498188722583\n",
      "2563.610287221809\n",
      "27.367614249169883\n",
      "49.92229580099909\n",
      "98.7738557226849\n",
      "2148.176116722723\n",
      "2.5957062444133667\n",
      "406.14699168682114\n",
      "0.06764087711151257\n",
      "2.8049251122845913\n",
      "44.13316222405373\n",
      "11.32917182269871\n",
      "1176.7143208143536\n",
      "577.2213222587583\n",
      "1296.7430302742516\n",
      "1.811463836275394\n",
      "3757.6481048831233\n",
      "1180.613136994062\n",
      "0.04580863720310956\n",
      "0.3237737591298676\n"
     ]
    }
   ],
   "source": [
    "for col in missing_categorical.keys():\n",
    "    df[col]= df[col].interpolate('ffill')\n",
    "    df[col]= df[col].interpolate('bfill')\n",
    "    \n",
    "    \n",
    "for col in missing_numerical.keys():\n",
    "    mean=df[col].mean()\n",
    "    print(mean)\n",
    "    df[col].fillna(mean,inplace=True)"
   ]
  },
  {
   "cell_type": "code",
   "execution_count": 11,
   "metadata": {},
   "outputs": [],
   "source": [
    "# save the dataset \n",
    "df.to_csv('dataset\\preprocessed_2.csv', index=False)"
   ]
  },
  {
   "cell_type": "code",
   "execution_count": 12,
   "metadata": {},
   "outputs": [
    {
     "name": "stdout",
     "output_type": "stream",
     "text": [
      "(372541, 36)\n"
     ]
    }
   ],
   "source": [
    "print(df.shape)"
   ]
  },
  {
   "cell_type": "markdown",
   "metadata": {},
   "source": [
    "---"
   ]
  },
  {
   "cell_type": "code",
   "execution_count": 13,
   "metadata": {},
   "outputs": [],
   "source": [
    "X = df.copy()\n",
    "y = df[['loanStatus']]\n",
    "\n",
    "X.drop(['loanStatus'], axis=1, inplace=True)"
   ]
  },
  {
   "cell_type": "markdown",
   "metadata": {},
   "source": [
    "---"
   ]
  },
  {
   "cell_type": "code",
   "execution_count": 14,
   "metadata": {},
   "outputs": [],
   "source": [
    "X.drop(['FirstPaymentDate',], axis=1, inplace=True)"
   ]
  },
  {
   "cell_type": "code",
   "execution_count": 15,
   "metadata": {},
   "outputs": [],
   "source": [
    "# split data into traindata,testdata\n",
    "# X_train, X_test, y_train, y_test = train_test_split(X, y, test_size=0.2, random_state=42)\n"
   ]
  },
  {
   "cell_type": "code",
   "execution_count": 16,
   "metadata": {},
   "outputs": [
    {
     "data": {
      "text/plain": [
       "(372541, 83)"
      ]
     },
     "execution_count": 16,
     "metadata": {},
     "output_type": "execute_result"
    }
   ],
   "source": [
    "# handle categorical variables using one hot encoding\n",
    "X = pd.get_dummies(X, drop_first=True)\n",
    "\n",
    "# handle categorical variables using label encoding\n",
    "from sklearn.preprocessing import LabelEncoder\n",
    "le = LabelEncoder()\n",
    "\n",
    "for col in X.columns:\n",
    "    if X[col].dtype == 'object':\n",
    "        X[col] = le.fit_transform(X[col])\n",
    "X.shape\n"
   ]
  },
  {
   "cell_type": "code",
   "execution_count": 17,
   "metadata": {},
   "outputs": [],
   "source": [
    "# save trian data and test data\n",
    "\n"
   ]
  },
  {
   "cell_type": "code",
   "execution_count": 18,
   "metadata": {},
   "outputs": [
    {
     "data": {
      "text/html": [
       "<div>\n",
       "<style scoped>\n",
       "    .dataframe tbody tr th:only-of-type {\n",
       "        vertical-align: middle;\n",
       "    }\n",
       "\n",
       "    .dataframe tbody tr th {\n",
       "        vertical-align: top;\n",
       "    }\n",
       "\n",
       "    .dataframe thead th {\n",
       "        text-align: right;\n",
       "    }\n",
       "</style>\n",
       "<table border=\"1\" class=\"dataframe\">\n",
       "  <thead>\n",
       "    <tr style=\"text-align: right;\">\n",
       "      <th></th>\n",
       "      <th>BidsPortfolioManager</th>\n",
       "      <th>BidsApi</th>\n",
       "      <th>BidsManual</th>\n",
       "      <th>NewCreditCustomer</th>\n",
       "      <th>Age</th>\n",
       "      <th>AppliedAmount</th>\n",
       "      <th>Amount</th>\n",
       "      <th>Interest</th>\n",
       "      <th>LoanDuration</th>\n",
       "      <th>MonthlyPayment</th>\n",
       "      <th>IncomeTotal</th>\n",
       "      <th>ExistingLiabilities</th>\n",
       "      <th>LiabilitiesTotal</th>\n",
       "      <th>RefinanceLiabilities</th>\n",
       "      <th>DebtToIncome</th>\n",
       "      <th>FreeCash</th>\n",
       "      <th>MonthlyPaymentDay</th>\n",
       "      <th>Restructured</th>\n",
       "      <th>PrincipalPaymentsMade</th>\n",
       "      <th>InterestAndPenaltyPaymentsMade</th>\n",
       "      <th>PrincipalBalance</th>\n",
       "      <th>NoOfPreviousLoansBeforeLoan</th>\n",
       "      <th>AmountOfPreviousLoansBeforeLoan</th>\n",
       "      <th>PreviousRepaymentsBeforeLoan</th>\n",
       "      <th>PreviousEarlyRepaymentsCountBeforeLoan</th>\n",
       "      <th>VerificationType_Income unverified</th>\n",
       "      <th>VerificationType_Income unverified, cross-referenced by phone</th>\n",
       "      <th>VerificationType_Income verified</th>\n",
       "      <th>VerificationType_Not set</th>\n",
       "      <th>LanguageCode_8</th>\n",
       "      <th>LanguageCode_English</th>\n",
       "      <th>LanguageCode_Estonian</th>\n",
       "      <th>LanguageCode_Finnish</th>\n",
       "      <th>LanguageCode_German</th>\n",
       "      <th>LanguageCode_Other</th>\n",
       "      <th>LanguageCode_Russian</th>\n",
       "      <th>LanguageCode_Slovakian</th>\n",
       "      <th>LanguageCode_Spanish</th>\n",
       "      <th>Gender_Undefined</th>\n",
       "      <th>Gender_Woman</th>\n",
       "      <th>Country_Finland</th>\n",
       "      <th>Country_Netherlands</th>\n",
       "      <th>Country_Slovakia</th>\n",
       "      <th>Country_Spain</th>\n",
       "      <th>Education_Higher education</th>\n",
       "      <th>Education_Primary education</th>\n",
       "      <th>Education_Secondary Education</th>\n",
       "      <th>Education_Vocational education</th>\n",
       "      <th>EmploymentDurationCurrentEmployer_Other</th>\n",
       "      <th>EmploymentDurationCurrentEmployer_Retiree</th>\n",
       "      <th>EmploymentDurationCurrentEmployer_TrialPeriod</th>\n",
       "      <th>EmploymentDurationCurrentEmployer_UpTo1Year</th>\n",
       "      <th>EmploymentDurationCurrentEmployer_UpTo2Years</th>\n",
       "      <th>EmploymentDurationCurrentEmployer_UpTo3Years</th>\n",
       "      <th>EmploymentDurationCurrentEmployer_UpTo4Years</th>\n",
       "      <th>EmploymentDurationCurrentEmployer_UpTo5Years</th>\n",
       "      <th>HomeOwnershipType_Homeless</th>\n",
       "      <th>HomeOwnershipType_Joint tenant</th>\n",
       "      <th>HomeOwnershipType_Living with parents</th>\n",
       "      <th>HomeOwnershipType_Mortage</th>\n",
       "      <th>HomeOwnershipType_Other</th>\n",
       "      <th>HomeOwnershipType_Owner</th>\n",
       "      <th>HomeOwnershipType_Owner with encumbrance</th>\n",
       "      <th>HomeOwnershipType_Tenant, pre-furnished property</th>\n",
       "      <th>HomeOwnershipType_Tenant, unfurnished property</th>\n",
       "      <th>HomeOwnershipType_joint ownership</th>\n",
       "      <th>Rating_AA</th>\n",
       "      <th>Rating_B</th>\n",
       "      <th>Rating_C</th>\n",
       "      <th>Rating_D</th>\n",
       "      <th>Rating_E</th>\n",
       "      <th>Rating_F</th>\n",
       "      <th>Rating_HR</th>\n",
       "      <th>CreditScoreEsMicroL_M1</th>\n",
       "      <th>CreditScoreEsMicroL_M10</th>\n",
       "      <th>CreditScoreEsMicroL_M2</th>\n",
       "      <th>CreditScoreEsMicroL_M3</th>\n",
       "      <th>CreditScoreEsMicroL_M4</th>\n",
       "      <th>CreditScoreEsMicroL_M5</th>\n",
       "      <th>CreditScoreEsMicroL_M6</th>\n",
       "      <th>CreditScoreEsMicroL_M7</th>\n",
       "      <th>CreditScoreEsMicroL_M8</th>\n",
       "      <th>CreditScoreEsMicroL_M9</th>\n",
       "    </tr>\n",
       "  </thead>\n",
       "  <tbody>\n",
       "    <tr>\n",
       "      <th>0</th>\n",
       "      <td>11</td>\n",
       "      <td>0.0</td>\n",
       "      <td>88.0</td>\n",
       "      <td>False</td>\n",
       "      <td>27</td>\n",
       "      <td>3189.0</td>\n",
       "      <td>3189.0</td>\n",
       "      <td>35.48</td>\n",
       "      <td>60</td>\n",
       "      <td>115.34</td>\n",
       "      <td>900.0</td>\n",
       "      <td>0</td>\n",
       "      <td>0.00</td>\n",
       "      <td>0</td>\n",
       "      <td>0.00</td>\n",
       "      <td>0.00</td>\n",
       "      <td>7</td>\n",
       "      <td>False</td>\n",
       "      <td>721.65</td>\n",
       "      <td>1330.8600</td>\n",
       "      <td>2467.35</td>\n",
       "      <td>1.0</td>\n",
       "      <td>3402.0</td>\n",
       "      <td>1161.57</td>\n",
       "      <td>0.0</td>\n",
       "      <td>False</td>\n",
       "      <td>False</td>\n",
       "      <td>False</td>\n",
       "      <td>False</td>\n",
       "      <td>False</td>\n",
       "      <td>False</td>\n",
       "      <td>True</td>\n",
       "      <td>False</td>\n",
       "      <td>False</td>\n",
       "      <td>False</td>\n",
       "      <td>False</td>\n",
       "      <td>False</td>\n",
       "      <td>False</td>\n",
       "      <td>False</td>\n",
       "      <td>True</td>\n",
       "      <td>False</td>\n",
       "      <td>False</td>\n",
       "      <td>False</td>\n",
       "      <td>False</td>\n",
       "      <td>False</td>\n",
       "      <td>False</td>\n",
       "      <td>False</td>\n",
       "      <td>True</td>\n",
       "      <td>False</td>\n",
       "      <td>False</td>\n",
       "      <td>False</td>\n",
       "      <td>False</td>\n",
       "      <td>False</td>\n",
       "      <td>False</td>\n",
       "      <td>False</td>\n",
       "      <td>True</td>\n",
       "      <td>False</td>\n",
       "      <td>False</td>\n",
       "      <td>False</td>\n",
       "      <td>False</td>\n",
       "      <td>True</td>\n",
       "      <td>False</td>\n",
       "      <td>False</td>\n",
       "      <td>False</td>\n",
       "      <td>False</td>\n",
       "      <td>False</td>\n",
       "      <td>False</td>\n",
       "      <td>False</td>\n",
       "      <td>False</td>\n",
       "      <td>True</td>\n",
       "      <td>False</td>\n",
       "      <td>False</td>\n",
       "      <td>False</td>\n",
       "      <td>False</td>\n",
       "      <td>False</td>\n",
       "      <td>False</td>\n",
       "      <td>False</td>\n",
       "      <td>False</td>\n",
       "      <td>False</td>\n",
       "      <td>False</td>\n",
       "      <td>False</td>\n",
       "      <td>False</td>\n",
       "      <td>False</td>\n",
       "    </tr>\n",
       "    <tr>\n",
       "      <th>1</th>\n",
       "      <td>0</td>\n",
       "      <td>0.0</td>\n",
       "      <td>0.0</td>\n",
       "      <td>False</td>\n",
       "      <td>35</td>\n",
       "      <td>4146.0</td>\n",
       "      <td>4146.0</td>\n",
       "      <td>19.86</td>\n",
       "      <td>60</td>\n",
       "      <td>108.17</td>\n",
       "      <td>3100.0</td>\n",
       "      <td>0</td>\n",
       "      <td>0.00</td>\n",
       "      <td>0</td>\n",
       "      <td>0.00</td>\n",
       "      <td>0.00</td>\n",
       "      <td>3</td>\n",
       "      <td>True</td>\n",
       "      <td>272.34</td>\n",
       "      <td>493.8575</td>\n",
       "      <td>3873.66</td>\n",
       "      <td>1.0</td>\n",
       "      <td>518.0</td>\n",
       "      <td>525.21</td>\n",
       "      <td>0.0</td>\n",
       "      <td>False</td>\n",
       "      <td>False</td>\n",
       "      <td>False</td>\n",
       "      <td>False</td>\n",
       "      <td>False</td>\n",
       "      <td>False</td>\n",
       "      <td>False</td>\n",
       "      <td>True</td>\n",
       "      <td>False</td>\n",
       "      <td>False</td>\n",
       "      <td>False</td>\n",
       "      <td>False</td>\n",
       "      <td>False</td>\n",
       "      <td>False</td>\n",
       "      <td>True</td>\n",
       "      <td>True</td>\n",
       "      <td>False</td>\n",
       "      <td>False</td>\n",
       "      <td>False</td>\n",
       "      <td>True</td>\n",
       "      <td>False</td>\n",
       "      <td>False</td>\n",
       "      <td>False</td>\n",
       "      <td>False</td>\n",
       "      <td>False</td>\n",
       "      <td>False</td>\n",
       "      <td>False</td>\n",
       "      <td>False</td>\n",
       "      <td>False</td>\n",
       "      <td>False</td>\n",
       "      <td>True</td>\n",
       "      <td>False</td>\n",
       "      <td>False</td>\n",
       "      <td>False</td>\n",
       "      <td>False</td>\n",
       "      <td>False</td>\n",
       "      <td>True</td>\n",
       "      <td>False</td>\n",
       "      <td>False</td>\n",
       "      <td>False</td>\n",
       "      <td>False</td>\n",
       "      <td>False</td>\n",
       "      <td>True</td>\n",
       "      <td>False</td>\n",
       "      <td>False</td>\n",
       "      <td>False</td>\n",
       "      <td>False</td>\n",
       "      <td>False</td>\n",
       "      <td>False</td>\n",
       "      <td>False</td>\n",
       "      <td>False</td>\n",
       "      <td>False</td>\n",
       "      <td>False</td>\n",
       "      <td>False</td>\n",
       "      <td>False</td>\n",
       "      <td>False</td>\n",
       "      <td>False</td>\n",
       "      <td>False</td>\n",
       "    </tr>\n",
       "    <tr>\n",
       "      <th>2</th>\n",
       "      <td>0</td>\n",
       "      <td>0.0</td>\n",
       "      <td>0.0</td>\n",
       "      <td>False</td>\n",
       "      <td>23</td>\n",
       "      <td>531.0</td>\n",
       "      <td>531.0</td>\n",
       "      <td>19.52</td>\n",
       "      <td>60</td>\n",
       "      <td>15.25</td>\n",
       "      <td>1700.0</td>\n",
       "      <td>0</td>\n",
       "      <td>0.00</td>\n",
       "      <td>0</td>\n",
       "      <td>0.00</td>\n",
       "      <td>0.00</td>\n",
       "      <td>23</td>\n",
       "      <td>False</td>\n",
       "      <td>5.52</td>\n",
       "      <td>5.0700</td>\n",
       "      <td>525.48</td>\n",
       "      <td>3.0</td>\n",
       "      <td>1593.0</td>\n",
       "      <td>631.35</td>\n",
       "      <td>0.0</td>\n",
       "      <td>False</td>\n",
       "      <td>False</td>\n",
       "      <td>False</td>\n",
       "      <td>False</td>\n",
       "      <td>False</td>\n",
       "      <td>False</td>\n",
       "      <td>True</td>\n",
       "      <td>False</td>\n",
       "      <td>False</td>\n",
       "      <td>False</td>\n",
       "      <td>False</td>\n",
       "      <td>False</td>\n",
       "      <td>False</td>\n",
       "      <td>False</td>\n",
       "      <td>False</td>\n",
       "      <td>False</td>\n",
       "      <td>False</td>\n",
       "      <td>False</td>\n",
       "      <td>False</td>\n",
       "      <td>True</td>\n",
       "      <td>False</td>\n",
       "      <td>False</td>\n",
       "      <td>False</td>\n",
       "      <td>False</td>\n",
       "      <td>False</td>\n",
       "      <td>False</td>\n",
       "      <td>False</td>\n",
       "      <td>False</td>\n",
       "      <td>False</td>\n",
       "      <td>False</td>\n",
       "      <td>True</td>\n",
       "      <td>False</td>\n",
       "      <td>False</td>\n",
       "      <td>False</td>\n",
       "      <td>False</td>\n",
       "      <td>False</td>\n",
       "      <td>False</td>\n",
       "      <td>False</td>\n",
       "      <td>True</td>\n",
       "      <td>False</td>\n",
       "      <td>False</td>\n",
       "      <td>False</td>\n",
       "      <td>True</td>\n",
       "      <td>False</td>\n",
       "      <td>False</td>\n",
       "      <td>False</td>\n",
       "      <td>False</td>\n",
       "      <td>False</td>\n",
       "      <td>False</td>\n",
       "      <td>False</td>\n",
       "      <td>False</td>\n",
       "      <td>False</td>\n",
       "      <td>False</td>\n",
       "      <td>False</td>\n",
       "      <td>False</td>\n",
       "      <td>False</td>\n",
       "      <td>False</td>\n",
       "      <td>False</td>\n",
       "    </tr>\n",
       "    <tr>\n",
       "      <th>3</th>\n",
       "      <td>970</td>\n",
       "      <td>1150.0</td>\n",
       "      <td>5.0</td>\n",
       "      <td>False</td>\n",
       "      <td>53</td>\n",
       "      <td>2125.0</td>\n",
       "      <td>2125.0</td>\n",
       "      <td>20.97</td>\n",
       "      <td>60</td>\n",
       "      <td>62.05</td>\n",
       "      <td>354.0</td>\n",
       "      <td>8</td>\n",
       "      <td>485.09</td>\n",
       "      <td>6</td>\n",
       "      <td>26.29</td>\n",
       "      <td>10.92</td>\n",
       "      <td>12</td>\n",
       "      <td>False</td>\n",
       "      <td>1026.77</td>\n",
       "      <td>1187.9100</td>\n",
       "      <td>0.00</td>\n",
       "      <td>1.0</td>\n",
       "      <td>500.0</td>\n",
       "      <td>590.95</td>\n",
       "      <td>0.0</td>\n",
       "      <td>False</td>\n",
       "      <td>False</td>\n",
       "      <td>False</td>\n",
       "      <td>False</td>\n",
       "      <td>False</td>\n",
       "      <td>False</td>\n",
       "      <td>True</td>\n",
       "      <td>False</td>\n",
       "      <td>False</td>\n",
       "      <td>False</td>\n",
       "      <td>False</td>\n",
       "      <td>False</td>\n",
       "      <td>False</td>\n",
       "      <td>False</td>\n",
       "      <td>True</td>\n",
       "      <td>False</td>\n",
       "      <td>False</td>\n",
       "      <td>False</td>\n",
       "      <td>False</td>\n",
       "      <td>False</td>\n",
       "      <td>False</td>\n",
       "      <td>True</td>\n",
       "      <td>False</td>\n",
       "      <td>False</td>\n",
       "      <td>False</td>\n",
       "      <td>False</td>\n",
       "      <td>False</td>\n",
       "      <td>False</td>\n",
       "      <td>False</td>\n",
       "      <td>False</td>\n",
       "      <td>False</td>\n",
       "      <td>False</td>\n",
       "      <td>False</td>\n",
       "      <td>False</td>\n",
       "      <td>False</td>\n",
       "      <td>False</td>\n",
       "      <td>True</td>\n",
       "      <td>False</td>\n",
       "      <td>False</td>\n",
       "      <td>False</td>\n",
       "      <td>False</td>\n",
       "      <td>False</td>\n",
       "      <td>False</td>\n",
       "      <td>True</td>\n",
       "      <td>False</td>\n",
       "      <td>False</td>\n",
       "      <td>False</td>\n",
       "      <td>False</td>\n",
       "      <td>False</td>\n",
       "      <td>False</td>\n",
       "      <td>False</td>\n",
       "      <td>False</td>\n",
       "      <td>False</td>\n",
       "      <td>False</td>\n",
       "      <td>False</td>\n",
       "      <td>False</td>\n",
       "      <td>False</td>\n",
       "      <td>False</td>\n",
       "    </tr>\n",
       "    <tr>\n",
       "      <th>4</th>\n",
       "      <td>0</td>\n",
       "      <td>0.0</td>\n",
       "      <td>0.0</td>\n",
       "      <td>False</td>\n",
       "      <td>43</td>\n",
       "      <td>414.0</td>\n",
       "      <td>414.0</td>\n",
       "      <td>19.89</td>\n",
       "      <td>108</td>\n",
       "      <td>6.65</td>\n",
       "      <td>1200.0</td>\n",
       "      <td>0</td>\n",
       "      <td>0.00</td>\n",
       "      <td>0</td>\n",
       "      <td>0.00</td>\n",
       "      <td>0.00</td>\n",
       "      <td>4</td>\n",
       "      <td>False</td>\n",
       "      <td>9.05</td>\n",
       "      <td>32.9175</td>\n",
       "      <td>404.95</td>\n",
       "      <td>5.0</td>\n",
       "      <td>11198.0</td>\n",
       "      <td>1176.22</td>\n",
       "      <td>0.0</td>\n",
       "      <td>False</td>\n",
       "      <td>False</td>\n",
       "      <td>False</td>\n",
       "      <td>False</td>\n",
       "      <td>False</td>\n",
       "      <td>False</td>\n",
       "      <td>False</td>\n",
       "      <td>True</td>\n",
       "      <td>False</td>\n",
       "      <td>False</td>\n",
       "      <td>False</td>\n",
       "      <td>False</td>\n",
       "      <td>False</td>\n",
       "      <td>False</td>\n",
       "      <td>False</td>\n",
       "      <td>True</td>\n",
       "      <td>False</td>\n",
       "      <td>False</td>\n",
       "      <td>False</td>\n",
       "      <td>False</td>\n",
       "      <td>False</td>\n",
       "      <td>False</td>\n",
       "      <td>True</td>\n",
       "      <td>True</td>\n",
       "      <td>False</td>\n",
       "      <td>False</td>\n",
       "      <td>False</td>\n",
       "      <td>False</td>\n",
       "      <td>False</td>\n",
       "      <td>False</td>\n",
       "      <td>False</td>\n",
       "      <td>False</td>\n",
       "      <td>False</td>\n",
       "      <td>False</td>\n",
       "      <td>False</td>\n",
       "      <td>False</td>\n",
       "      <td>False</td>\n",
       "      <td>False</td>\n",
       "      <td>True</td>\n",
       "      <td>False</td>\n",
       "      <td>False</td>\n",
       "      <td>False</td>\n",
       "      <td>False</td>\n",
       "      <td>False</td>\n",
       "      <td>True</td>\n",
       "      <td>False</td>\n",
       "      <td>False</td>\n",
       "      <td>False</td>\n",
       "      <td>False</td>\n",
       "      <td>False</td>\n",
       "      <td>False</td>\n",
       "      <td>False</td>\n",
       "      <td>False</td>\n",
       "      <td>False</td>\n",
       "      <td>False</td>\n",
       "      <td>False</td>\n",
       "      <td>False</td>\n",
       "      <td>False</td>\n",
       "    </tr>\n",
       "  </tbody>\n",
       "</table>\n",
       "</div>"
      ],
      "text/plain": [
       "   BidsPortfolioManager  BidsApi  BidsManual  NewCreditCustomer  Age  \\\n",
       "0                    11      0.0        88.0              False   27   \n",
       "1                     0      0.0         0.0              False   35   \n",
       "2                     0      0.0         0.0              False   23   \n",
       "3                   970   1150.0         5.0              False   53   \n",
       "4                     0      0.0         0.0              False   43   \n",
       "\n",
       "   AppliedAmount  Amount  Interest  LoanDuration  MonthlyPayment  IncomeTotal  \\\n",
       "0         3189.0  3189.0     35.48            60          115.34        900.0   \n",
       "1         4146.0  4146.0     19.86            60          108.17       3100.0   \n",
       "2          531.0   531.0     19.52            60           15.25       1700.0   \n",
       "3         2125.0  2125.0     20.97            60           62.05        354.0   \n",
       "4          414.0   414.0     19.89           108            6.65       1200.0   \n",
       "\n",
       "   ExistingLiabilities  LiabilitiesTotal  RefinanceLiabilities  DebtToIncome  \\\n",
       "0                    0              0.00                     0          0.00   \n",
       "1                    0              0.00                     0          0.00   \n",
       "2                    0              0.00                     0          0.00   \n",
       "3                    8            485.09                     6         26.29   \n",
       "4                    0              0.00                     0          0.00   \n",
       "\n",
       "   FreeCash  MonthlyPaymentDay  Restructured  PrincipalPaymentsMade  \\\n",
       "0      0.00                  7         False                 721.65   \n",
       "1      0.00                  3          True                 272.34   \n",
       "2      0.00                 23         False                   5.52   \n",
       "3     10.92                 12         False                1026.77   \n",
       "4      0.00                  4         False                   9.05   \n",
       "\n",
       "   InterestAndPenaltyPaymentsMade  PrincipalBalance  \\\n",
       "0                       1330.8600           2467.35   \n",
       "1                        493.8575           3873.66   \n",
       "2                          5.0700            525.48   \n",
       "3                       1187.9100              0.00   \n",
       "4                         32.9175            404.95   \n",
       "\n",
       "   NoOfPreviousLoansBeforeLoan  AmountOfPreviousLoansBeforeLoan  \\\n",
       "0                          1.0                           3402.0   \n",
       "1                          1.0                            518.0   \n",
       "2                          3.0                           1593.0   \n",
       "3                          1.0                            500.0   \n",
       "4                          5.0                          11198.0   \n",
       "\n",
       "   PreviousRepaymentsBeforeLoan  PreviousEarlyRepaymentsCountBeforeLoan  \\\n",
       "0                       1161.57                                     0.0   \n",
       "1                        525.21                                     0.0   \n",
       "2                        631.35                                     0.0   \n",
       "3                        590.95                                     0.0   \n",
       "4                       1176.22                                     0.0   \n",
       "\n",
       "   VerificationType_Income unverified  \\\n",
       "0                               False   \n",
       "1                               False   \n",
       "2                               False   \n",
       "3                               False   \n",
       "4                               False   \n",
       "\n",
       "   VerificationType_Income unverified, cross-referenced by phone  \\\n",
       "0                                              False               \n",
       "1                                              False               \n",
       "2                                              False               \n",
       "3                                              False               \n",
       "4                                              False               \n",
       "\n",
       "   VerificationType_Income verified  VerificationType_Not set  LanguageCode_8  \\\n",
       "0                             False                     False           False   \n",
       "1                             False                     False           False   \n",
       "2                             False                     False           False   \n",
       "3                             False                     False           False   \n",
       "4                             False                     False           False   \n",
       "\n",
       "   LanguageCode_English  LanguageCode_Estonian  LanguageCode_Finnish  \\\n",
       "0                 False                   True                 False   \n",
       "1                 False                  False                  True   \n",
       "2                 False                   True                 False   \n",
       "3                 False                   True                 False   \n",
       "4                 False                  False                  True   \n",
       "\n",
       "   LanguageCode_German  LanguageCode_Other  LanguageCode_Russian  \\\n",
       "0                False               False                 False   \n",
       "1                False               False                 False   \n",
       "2                False               False                 False   \n",
       "3                False               False                 False   \n",
       "4                False               False                 False   \n",
       "\n",
       "   LanguageCode_Slovakian  LanguageCode_Spanish  Gender_Undefined  \\\n",
       "0                   False                 False             False   \n",
       "1                   False                 False             False   \n",
       "2                   False                 False             False   \n",
       "3                   False                 False             False   \n",
       "4                   False                 False             False   \n",
       "\n",
       "   Gender_Woman  Country_Finland  Country_Netherlands  Country_Slovakia  \\\n",
       "0          True            False                False             False   \n",
       "1          True             True                False             False   \n",
       "2         False            False                False             False   \n",
       "3          True            False                False             False   \n",
       "4         False             True                False             False   \n",
       "\n",
       "   Country_Spain  Education_Higher education  Education_Primary education  \\\n",
       "0          False                       False                        False   \n",
       "1          False                        True                        False   \n",
       "2          False                        True                        False   \n",
       "3          False                       False                        False   \n",
       "4          False                       False                        False   \n",
       "\n",
       "   Education_Secondary Education  Education_Vocational education  \\\n",
       "0                          False                            True   \n",
       "1                          False                           False   \n",
       "2                          False                           False   \n",
       "3                           True                           False   \n",
       "4                          False                            True   \n",
       "\n",
       "   EmploymentDurationCurrentEmployer_Other  \\\n",
       "0                                    False   \n",
       "1                                    False   \n",
       "2                                    False   \n",
       "3                                    False   \n",
       "4                                     True   \n",
       "\n",
       "   EmploymentDurationCurrentEmployer_Retiree  \\\n",
       "0                                      False   \n",
       "1                                      False   \n",
       "2                                      False   \n",
       "3                                      False   \n",
       "4                                      False   \n",
       "\n",
       "   EmploymentDurationCurrentEmployer_TrialPeriod  \\\n",
       "0                                          False   \n",
       "1                                          False   \n",
       "2                                          False   \n",
       "3                                          False   \n",
       "4                                          False   \n",
       "\n",
       "   EmploymentDurationCurrentEmployer_UpTo1Year  \\\n",
       "0                                        False   \n",
       "1                                        False   \n",
       "2                                        False   \n",
       "3                                        False   \n",
       "4                                        False   \n",
       "\n",
       "   EmploymentDurationCurrentEmployer_UpTo2Years  \\\n",
       "0                                         False   \n",
       "1                                         False   \n",
       "2                                         False   \n",
       "3                                         False   \n",
       "4                                         False   \n",
       "\n",
       "   EmploymentDurationCurrentEmployer_UpTo3Years  \\\n",
       "0                                         False   \n",
       "1                                         False   \n",
       "2                                         False   \n",
       "3                                         False   \n",
       "4                                         False   \n",
       "\n",
       "   EmploymentDurationCurrentEmployer_UpTo4Years  \\\n",
       "0                                         False   \n",
       "1                                         False   \n",
       "2                                         False   \n",
       "3                                         False   \n",
       "4                                         False   \n",
       "\n",
       "   EmploymentDurationCurrentEmployer_UpTo5Years  HomeOwnershipType_Homeless  \\\n",
       "0                                          True                       False   \n",
       "1                                          True                       False   \n",
       "2                                          True                       False   \n",
       "3                                         False                       False   \n",
       "4                                         False                       False   \n",
       "\n",
       "   HomeOwnershipType_Joint tenant  HomeOwnershipType_Living with parents  \\\n",
       "0                           False                                  False   \n",
       "1                           False                                  False   \n",
       "2                           False                                  False   \n",
       "3                           False                                  False   \n",
       "4                           False                                  False   \n",
       "\n",
       "   HomeOwnershipType_Mortage  HomeOwnershipType_Other  \\\n",
       "0                      False                     True   \n",
       "1                      False                    False   \n",
       "2                      False                    False   \n",
       "3                      False                    False   \n",
       "4                      False                    False   \n",
       "\n",
       "   HomeOwnershipType_Owner  HomeOwnershipType_Owner with encumbrance  \\\n",
       "0                    False                                     False   \n",
       "1                     True                                     False   \n",
       "2                    False                                     False   \n",
       "3                     True                                     False   \n",
       "4                    False                                     False   \n",
       "\n",
       "   HomeOwnershipType_Tenant, pre-furnished property  \\\n",
       "0                                             False   \n",
       "1                                             False   \n",
       "2                                              True   \n",
       "3                                             False   \n",
       "4                                              True   \n",
       "\n",
       "   HomeOwnershipType_Tenant, unfurnished property  \\\n",
       "0                                           False   \n",
       "1                                           False   \n",
       "2                                           False   \n",
       "3                                           False   \n",
       "4                                           False   \n",
       "\n",
       "   HomeOwnershipType_joint ownership  Rating_AA  Rating_B  Rating_C  Rating_D  \\\n",
       "0                              False      False     False     False      True   \n",
       "1                              False      False      True     False     False   \n",
       "2                              False      False      True     False     False   \n",
       "3                              False      False     False      True     False   \n",
       "4                              False      False     False     False      True   \n",
       "\n",
       "   Rating_E  Rating_F  Rating_HR  CreditScoreEsMicroL_M1  \\\n",
       "0     False     False      False                   False   \n",
       "1     False     False      False                   False   \n",
       "2     False     False      False                   False   \n",
       "3     False     False      False                   False   \n",
       "4     False     False      False                   False   \n",
       "\n",
       "   CreditScoreEsMicroL_M10  CreditScoreEsMicroL_M2  CreditScoreEsMicroL_M3  \\\n",
       "0                    False                   False                   False   \n",
       "1                    False                   False                   False   \n",
       "2                    False                   False                   False   \n",
       "3                    False                   False                   False   \n",
       "4                    False                   False                   False   \n",
       "\n",
       "   CreditScoreEsMicroL_M4  CreditScoreEsMicroL_M5  CreditScoreEsMicroL_M6  \\\n",
       "0                   False                   False                   False   \n",
       "1                   False                   False                   False   \n",
       "2                   False                   False                   False   \n",
       "3                   False                   False                   False   \n",
       "4                   False                   False                   False   \n",
       "\n",
       "   CreditScoreEsMicroL_M7  CreditScoreEsMicroL_M8  CreditScoreEsMicroL_M9  \n",
       "0                   False                   False                   False  \n",
       "1                   False                   False                   False  \n",
       "2                   False                   False                   False  \n",
       "3                   False                   False                   False  \n",
       "4                   False                   False                   False  "
      ]
     },
     "execution_count": 18,
     "metadata": {},
     "output_type": "execute_result"
    }
   ],
   "source": [
    "X.head()"
   ]
  },
  {
   "cell_type": "code",
   "execution_count": 19,
   "metadata": {},
   "outputs": [],
   "source": [
    "over = RandomOverSampler(random_state=0)\n",
    "smote = SMOTE()\n",
    "\n",
    "stdscaler = StandardScaler()\n",
    "scaler = MinMaxScaler()\n",
    "\n",
    "pca = PCA(n_components=20)"
   ]
  },
  {
   "cell_type": "markdown",
   "metadata": {},
   "source": [
    "---"
   ]
  },
  {
   "cell_type": "markdown",
   "metadata": {},
   "source": [
    "## classification"
   ]
  },
  {
   "cell_type": "code",
   "execution_count": 20,
   "metadata": {},
   "outputs": [],
   "source": [
    "def plot_roc(y_test,preds,model):\n",
    "    \"\"\" \n",
    "    Plot the ROC curve  \n",
    "\n",
    "    Parameters\n",
    "    ----------\n",
    "    y_test : pandas.Series\n",
    "        the true values that we will predict\n",
    "    preds : numpy.ndarray\n",
    "        the predicted values\n",
    "    model : str\n",
    "        the name of the model\n",
    "\n",
    "    Return\n",
    "    ------ \n",
    "    A plot of the roc curve for the given model \n",
    "    \"\"\"\n",
    "    fpr, tpr, thresh = roc_curve(y_test, preds)\n",
    "    roc_auc = auc(fpr, tpr)\n",
    "    print('roc_auc_score for {}: '.format(model), roc_auc_score(y_test, preds))\n",
    "    plt.subplots(1, figsize=(10,10))\n",
    "    plt.title('ROC curve')\n",
    "    plt.plot(fpr, tpr, 'b', label = 'AUC = %0.4f' % roc_auc)\n",
    "    plt.legend(loc = 'lower right')\n",
    "    plt.plot([0, 1], ls=\"--\")\n",
    "    plt.plot([0, 0], [1, 0] , c=\".7\"), plt.plot([1, 1] , c=\".7\")\n",
    "    plt.ylabel('True Positive Rate')\n",
    "    plt.xlabel('False Positive Rate')\n",
    "    plt.show()"
   ]
  },
  {
   "cell_type": "code",
   "execution_count": 21,
   "metadata": {},
   "outputs": [],
   "source": [
    "def plot_report(y_test, preds,targets = None):\n",
    "    \"\"\" \n",
    "    Plot classification report \n",
    "\n",
    "    Parameters\n",
    "    ----------\n",
    "    y_test : pandas.Series\n",
    "        the true values that we will predict\n",
    "    preds : numpy.ndarray\n",
    "        the predicted values\n",
    "    target_names : list\n",
    "        A list that contains the target classes names\n",
    "\n",
    "    Return\n",
    "    ------ \n",
    "    Classification report plot \n",
    "    \"\"\"\n",
    "    clf_report = classification_report(y_test,\n",
    "                                       preds,\n",
    "                                       target_names=targets,\n",
    "                                       output_dict=True)\n",
    "    sb.heatmap(pd.DataFrame(clf_report).iloc[:-1, :].T, annot=True,cmap=\"Greens\")"
   ]
  },
  {
   "cell_type": "code",
   "execution_count": 26,
   "metadata": {},
   "outputs": [],
   "source": [
    "rob_scaler = StandardScaler()\n",
    "for col in X.columns:\n",
    "    X[col] = rob_scaler.fit_transform(X[col].values.reshape(-1,1))\n",
    "    \n",
    "    \n",
    "X_train, X_test, y_train, y_test = train_test_split(X, y, test_size=0.2, random_state=42)\n",
    "# save the train,test data\n",
    "train = pd.concat([X_train, y_train], axis=1)\n",
    "test = pd.concat([X_test, y_test], axis=1)\n",
    "\n",
    "# train.to_csv('dataset/preprocessed_train.csv', index=False)\n",
    "# test.to_csv('dataset/preprocessed_test.csv', index=False)\n",
    "\n",
    "\n",
    "# save sample of data\n",
    "sample = train.sample(1000)\n",
    "sample_test = test.sample(100)\n",
    "\n",
    "sample.to_csv('dataset/mini_sample.csv', index=False)\n",
    "sample_test.to_csv('dataset/mini_sample_test.csv', index=False)\n",
    "\n",
    "\n"
   ]
  },
  {
   "cell_type": "markdown",
   "metadata": {},
   "source": [
    "## **train, test split**"
   ]
  },
  {
   "cell_type": "code",
   "execution_count": null,
   "metadata": {},
   "outputs": [],
   "source": [
    "X_train, X_test, y_train, y_test = train_test_split(X, y, test_size=0.3, random_state=42)\n"
   ]
  },
  {
   "cell_type": "code",
   "execution_count": null,
   "metadata": {},
   "outputs": [
    {
     "data": {
      "text/plain": [
       "loanStatus\n",
       "0             176409\n",
       "1              84369\n",
       "Name: count, dtype: int64"
      ]
     },
     "execution_count": 26,
     "metadata": {},
     "output_type": "execute_result"
    }
   ],
   "source": [
    "y_train.value_counts()"
   ]
  },
  {
   "cell_type": "markdown",
   "metadata": {},
   "source": [
    "## Logistic Regression "
   ]
  },
  {
   "cell_type": "code",
   "execution_count": null,
   "metadata": {},
   "outputs": [
    {
     "name": "stdout",
     "output_type": "stream",
     "text": [
      "test accuracy =  83.9 %\n"
     ]
    }
   ],
   "source": [
    "log = LogisticRegression(C= 100, penalty= 'l2', solver='newton-cg')\n",
    "log.fit(X_train, y_train)\n",
    "preds = log.predict(X_test)\n",
    "print('test accuracy = ', round(accuracy_score(y_test, preds)*100, 2), '%')"
   ]
  },
  {
   "cell_type": "code",
   "execution_count": null,
   "metadata": {},
   "outputs": [
    {
     "name": "stdout",
     "output_type": "stream",
     "text": [
      "roc_auc_score for Logistic Regression:  0.7847835979829004\n"
     ]
    },
    {
     "data": {
      "image/png": "[encoded data removed]",
      "text/plain": [
       "<Figure size 1000x1000 with 1 Axes>"
      ]
     },
     "metadata": {},
     "output_type": "display_data"
    }
   ],
   "source": [
    "plot_roc(y_test, preds, 'Logistic Regression')"
   ]
  },
  {
   "cell_type": "markdown",
   "metadata": {},
   "source": [
    "## **Ensemble learning**"
   ]
  },
  {
   "cell_type": "code",
   "execution_count": null,
   "metadata": {},
   "outputs": [],
   "source": [
    "qda = QuadraticDiscriminantAnalysis()\n",
    "\n",
    "rf = RandomForestClassifier(random_state=0)"
   ]
  },
  {
   "cell_type": "code",
   "execution_count": null,
   "metadata": {},
   "outputs": [],
   "source": [
    "estimators = [('QDA', qda), ('RandomForest', rf)]\n",
    "final_estimator = GradientBoostingClassifier(n_estimators=100, learning_rate=1.0, max_depth=1, random_state=0)\n",
    "clf = StackingClassifier(estimators=estimators, final_estimator=final_estimator)"
   ]
  },
  {
   "cell_type": "code",
   "execution_count": null,
   "metadata": {},
   "outputs": [],
   "source": [
    "model_ensemble = Pipeline([\n",
    "    ('pca', pca),\n",
    "    ('classifier', clf)\n",
    "])"
   ]
  },
  {
   "cell_type": "code",
   "execution_count": null,
   "metadata": {},
   "outputs": [
    {
     "name": "stdout",
     "output_type": "stream",
     "text": [
      "test accuracy =  79.17 %\n"
     ]
    }
   ],
   "source": [
    "model_ensemble.fit(X_train, y_train)\n",
    "pred = model_ensemble.predict(X_test)\n",
    "print('test accuracy = ', round(accuracy_score(y_test, pred)*100, 2), '%')"
   ]
  },
  {
   "cell_type": "code",
   "execution_count": null,
   "metadata": {},
   "outputs": [
    {
     "name": "stdout",
     "output_type": "stream",
     "text": [
      "roc_auc_score for ensemble model:  0.7267507342193191\n"
     ]
    },
    {
     "data": {
      "image/png": "[encoded data removed]",
      "text/plain": [
       "<Figure size 1000x1000 with 1 Axes>"
      ]
     },
     "metadata": {},
     "output_type": "display_data"
    }
   ],
   "source": [
    "plot_roc(y_test, pred, 'ensemble model')"
   ]
  },
  {
   "cell_type": "code",
   "execution_count": null,
   "metadata": {},
   "outputs": [
    {
     "name": "stdout",
     "output_type": "stream",
     "text": [
      "              precision    recall  f1-score   support\n",
      "\n",
      "           0      0.806     0.912     0.855     75513\n",
      "           1      0.747     0.542     0.628     36250\n",
      "\n",
      "    accuracy                          0.792    111763\n",
      "   macro avg      0.776     0.727     0.742    111763\n",
      "weighted avg      0.786     0.792     0.782    111763\n",
      "\n"
     ]
    }
   ],
   "source": [
    "print(classification_report(y_test, pred, digits=3))"
   ]
  },
  {
   "cell_type": "markdown",
   "metadata": {},
   "source": [
    "**QDA**"
   ]
  },
  {
   "cell_type": "code",
   "execution_count": null,
   "metadata": {},
   "outputs": [],
   "source": [
    "model_qda = Pipeline([\n",
    "    ('classifier', qda)\n",
    "])"
   ]
  },
  {
   "cell_type": "code",
   "execution_count": null,
   "metadata": {},
   "outputs": [
    {
     "name": "stdout",
     "output_type": "stream",
     "text": [
      "test accuracy =  74.66 %\n"
     ]
    }
   ],
   "source": [
    "model_qda.fit(X_train, y_train)\n",
    "pred = model_qda.predict(X_test)\n",
    "print('test accuracy = ', round(accuracy_score(y_test, pred)*100, 2), '%')"
   ]
  },
  {
   "cell_type": "code",
   "execution_count": null,
   "metadata": {},
   "outputs": [
    {
     "name": "stdout",
     "output_type": "stream",
     "text": [
      "              precision    recall  f1-score   support\n",
      "\n",
      "           0      0.761     0.912     0.829     75513\n",
      "           1      0.687     0.403     0.508     36250\n",
      "\n",
      "    accuracy                          0.747    111763\n",
      "   macro avg      0.724     0.657     0.668    111763\n",
      "weighted avg      0.737     0.747     0.725    111763\n",
      "\n"
     ]
    }
   ],
   "source": [
    "print(classification_report(y_test, pred, digits=3))"
   ]
  },
  {
   "cell_type": "markdown",
   "metadata": {},
   "source": [
    "**Random Forest**"
   ]
  },
  {
   "cell_type": "code",
   "execution_count": null,
   "metadata": {},
   "outputs": [],
   "source": [
    "model_rf = Pipeline([\n",
    "    ('pca', PCA(n_components=50)),\n",
    "    ('classifier', rf)\n",
    "])"
   ]
  },
  {
   "cell_type": "code",
   "execution_count": null,
   "metadata": {},
   "outputs": [
    {
     "name": "stdout",
     "output_type": "stream",
     "text": [
      "test accuracy =  80.14 %\n"
     ]
    }
   ],
   "source": [
    "model_rf.fit(X_train, y_train)\n",
    "pred = model_rf.predict(X_test)\n",
    "print('test accuracy = ', round(accuracy_score(y_test, pred)*100, 2), '%')"
   ]
  },
  {
   "cell_type": "code",
   "execution_count": null,
   "metadata": {},
   "outputs": [],
   "source": [
    "print(classification_report(y_test, pred, digits=3))"
   ]
  },
  {
   "cell_type": "markdown",
   "metadata": {},
   "source": [
    "---"
   ]
  },
  {
   "cell_type": "markdown",
   "metadata": {},
   "source": [
    "## saving model"
   ]
  },
  {
   "cell_type": "code",
   "execution_count": null,
   "metadata": {},
   "outputs": [],
   "source": [
    "pickle.dump(model_ensemble, open('../models/ensemble.pkl', 'wb'))\n",
    "pickle.dump(model_qda, open('../models/qda.pkl', 'wb'))\n",
    "pickle.dump(model_rf, open('../models/rf.pkl', 'wb'))"
   ]
  },
  {
   "cell_type": "code",
   "execution_count": null,
   "metadata": {},
   "outputs": [],
   "source": [
    "# to load the model :\n",
    "# pickled_model = pickle.load(open('model.pkl', 'rb'))\n",
    "# pickled_model.predict(X_test)"
   ]
  },
  {
   "cell_type": "markdown",
   "metadata": {},
   "source": [
    "---"
   ]
  }
 ],
 "metadata": {
  "kernelspec": {
   "display_name": "Python 3.9.0 64-bit",
   "language": "python",
   "name": "python3"
  },
  "language_info": {
   "codemirror_mode": {
    "name": "ipython",
    "version": 3
   },
   "file_extension": ".py",
   "mimetype": "text/x-python",
   "name": "python",
   "nbconvert_exporter": "python",
   "pygments_lexer": "ipython3",
   "version": "3.10.7"
  },
  "orig_nbformat": 4,
  "vscode": {
   "interpreter": {
    "hash": "8304880a3e767ad58ed1695f5214ef77ebbb8fdf4513a7eb4c0fbb1ff3deb86b"
   }
  }
 },
 "nbformat": 4,
 "nbformat_minor": 2
}
